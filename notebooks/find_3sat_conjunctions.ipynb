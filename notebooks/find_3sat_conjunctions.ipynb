{
 "cells": [
  {
   "cell_type": "markdown",
   "metadata": {},
   "source": [
    "# Swarm conjunctions above the auroral oval\n",
    "Adrian Blagau (Institute for Space Sciences, Bucharest) <br>\n",
    "Joachim Vogt (Jacobs University Bremen) <br>\n",
    "Version Oct. 2020"
   ]
  },
  {
   "cell_type": "markdown",
   "metadata": {},
   "source": [
    "This notebook accompanies the article [\"Multipoint Field-Aligned Current Estimates With Swarm\"](https://doi.org/10.1029/2018JA026439) by A. Blagau, and J. Vogt, 2019. When used for publications, please acknowledge the authors' work by citing the paper."
   ]
  },
  {
   "cell_type": "markdown",
   "metadata": {},
   "source": [
    "**Introduction** The different orbital velocities of Swarm upper and lower satellites makes possible a spacecraft alignment at certain orbital phase every other ~ 6.2 days. During such a time-interval, one can count several conjunction above the auroral oval (AO), depending on how strictly we require the satellite to line up. This notebook helps finding Swarm conjunctions above the AO, i.e. candidate events for the application of three-sat field-aligned current (FAC) density estimation method (see [Vogt, Albert, and Marghitu, 2009](https://doi.org/10.5194/angeo-27-3249-2009)). \n",
    "\n",
    "The approach relies on an automatic procedure to identify the AO based on the unsigned FAC density in quasi-dipole coordinates interpreted as a normalized probability density function (pdf). Conjunctions are found by imposing temporal and spatial conditions (e.g. Swarm B and Swarm A/C to encounter an AO within a certain time-window, moving in the same hemisphere on the same upward/downward leg) \n",
    "\n",
    "In the <a href=\"#input\" style=\"color:green\">Input parameters</a> section, the user could specify the time interval to search for conjunctions and the parameter that temporally constrains the conjunction. The spatial constraints are discussed in section <a href=\"#def_conj\" style=\"color:green\">Definition of s/c conjunction</a> and could be changed by the user according to specific needs.\n",
    "\n",
    "Since the automatic identification of AO location is not expected to work accurately in all cases, the list of events serves only for orientation. The standard plots generated at the end of the notebook are designed to help in (visually) assessing the quality of the conjunctions. Other requirements and critical aspects related to the application of three-sat method in the Swarm context (longitudinal separation, linear field variation, orientation of the spacecraft plane etc) are discussed in [Blagau and Vogt, 2019](https://doi.org/10.1029/2018JA026439).  "
   ]
  },
  {
   "cell_type": "markdown",
   "metadata": {},
   "source": [
    "Importing useful libraries (numpy, pandas, matplotlib, ...)"
   ]
  },
  {
   "cell_type": "code",
   "execution_count": null,
   "metadata": {},
   "outputs": [],
   "source": [
    "import numpy as np\n",
    "import pandas as pd\n",
    "from tqdm.auto import tqdm\n",
    "from scipy import signal\n",
    "from scipy.interpolate import interp1d\n",
    "import datetime as dtm\n",
    "import matplotlib.pyplot as plt\n",
    "import matplotlib.dates as mdt\n",
    "\n",
    "%matplotlib inline"
   ]
  },
  {
   "cell_type": "code",
   "execution_count": null,
   "metadata": {},
   "outputs": [],
   "source": [
    "import warnings\n",
    "warnings.filterwarnings('ignore')"
   ]
  },
  {
   "cell_type": "markdown",
   "metadata": {},
   "source": [
    "Preparing to access ESA’s Swarm mission data and models from VirES environment"
   ]
  },
  {
   "cell_type": "code",
   "execution_count": null,
   "metadata": {},
   "outputs": [],
   "source": [
    "from viresclient import SwarmRequest"
   ]
  },
  {
   "cell_type": "markdown",
   "metadata": {},
   "source": [
    "## Defining some convenience functions\n",
    "\n",
    "Computes the parameters of a low-pass Butterworth filter, if one decides to filter the data"
   ]
  },
  {
   "cell_type": "code",
   "execution_count": null,
   "metadata": {},
   "outputs": [],
   "source": [
    "fs = 1  # Sampling frequency\n",
    "fc = 1./20.  # Cut-off frequency of a 20 s low-pass filter\n",
    "w = fc / (fs / 2) # Normalize the frequency\n",
    "butter_ord = 5\n",
    "bf, af = signal.butter(butter_ord, w, 'low')"
   ]
  },
  {
   "cell_type": "markdown",
   "metadata": {},
   "source": [
    "<br>\n",
    "The function below splits a larger DataFrame in many smaller DataFrames, each corresponding to a certain time-interval. Used to split the Swarm data in half- or quarter-orbits. "
   ]
  },
  {
   "cell_type": "code",
   "execution_count": null,
   "metadata": {},
   "outputs": [],
   "source": [
    "def split_into_sections(df, begend_arr):\n",
    "    \"\"\"Splits the original dataframe df in sections according to \n",
    "    time moments from begend_arr array. Returns a list of dataframes\"\"\"\n",
    "    secorbs = []\n",
    "    for start, end in zip(begend_arr[0:-1], begend_arr[1:]):\n",
    "        secorb = df[start:end]\n",
    "        secorbs.append(secorb)\n",
    "    return secorbs"
   ]
  },
  {
   "cell_type": "markdown",
   "metadata": {},
   "source": [
    "<br>\n",
    "For an orbital section with monotonic variation in quasi-dipole latitude (QDLat), the function below finds the instance of time when the cumulative sum of unsigned FAC density (i.e. absolute value of current density) reaches its half maximum. This is returned as proxy for the FAC central time, together with other parameters like e.q. qd_trend (positive/ negative when QDLat is increasing/ decreasing), and qd_sign (indicates the upper/ lower hemisphere). The integration/ cumulative summing is performed as function of QDLat (not time), to correct for the non-linear changes in QDLat at the highest latitude. "
   ]
  },
  {
   "cell_type": "code",
   "execution_count": null,
   "metadata": {},
   "outputs": [],
   "source": [
    "def find_jabs_midcsum(df, fac_qnt = 'FAC_flt_sup', rez_qd = 100):\n",
    "    \"\"\"For a quarter-orbit section, finds the \n",
    "    FAC central time, QDLat trend and QDLat sign\"\"\"\n",
    "    qd = df['QDLat'].values\n",
    "    qdlon = df['QDLon'].values\n",
    "    jb = df[fac_qnt].values\n",
    "    ti = df['QDLat'].index.values.astype(float)\n",
    "    qd_trend = (qd[-1] - qd[0])/abs(qd[0] - qd[-1])  # >0 if QDLat inreases\n",
    "    qd_sign = qd[0]/abs(qd[0])  \n",
    "    dqmin = np.round(np.amin(qd), decimals = 2)\n",
    "    dqmax = np.round(np.amax(qd), decimals = 2) \n",
    "    nr = round((dqmax - dqmin)*rez_qd + 1)      \n",
    "    qd_arr = np.linspace(dqmin, dqmax, nr)       # new QDLat array \n",
    "    if qd_trend > 0:\n",
    "        ti_arr = np.interp(qd_arr, qd, ti)          # time of new QD points\n",
    "        jb_arr = np.interp(qd_arr, qd, jb)          # FAC at new QD points\n",
    "    else:\n",
    "        ti_arr = np.interp(qd_arr, qd[::-1], ti[::-1])\n",
    "        jb_arr = np.interp(qd_arr, qd[::-1], jb[::-1])\n",
    "    \n",
    "    if np.sum(np.abs(jb_arr)) > 0:\n",
    "        jabs_csum = np.cumsum(np.abs(jb_arr))/np.sum(np.abs(jb_arr))\n",
    "        idx_jhalf = (np.abs(jabs_csum - 0.5)).argmin()\n",
    "        idx_ti_ao = (np.abs(ti - ti_arr[idx_jhalf])).argmin()\n",
    "        return ti_arr[idx_jhalf], qd_trend, qd_sign, qd_arr[idx_jhalf], \\\n",
    "                qdlon[idx_ti_ao], ti_arr, jb_arr, jabs_csum, qd_arr      \n",
    "    else:\n",
    "        return np.nan, qd_trend, qd_sign, np.nan, \\\n",
    "                np.nan, ti_arr, jb_arr, np.nan, qd_arr"
   ]
  },
  {
   "cell_type": "markdown",
   "metadata": {},
   "source": [
    "<br>\n",
    "The function below is used only during the plotting part. Calls viresclient and provides magnetic field perturbation (in NEC or GEOC frame) for a specified time interval."
   ]
  },
  {
   "cell_type": "code",
   "execution_count": null,
   "metadata": {},
   "outputs": [],
   "source": [
    "def get_db_data(sats, tbeg, tend, Bmodel, refframe = 'GEOC'):\n",
    "    \"\"\"Returns Swarm magnetic perturbation in a dataframe\"\"\"\n",
    "    dti = pd.date_range(start = tbeg.round('s'), \n",
    "                        end = tend.round('s'), freq='s', closed='left')\n",
    "    ndti = len(dti)\n",
    "    nsc = len(sats)\n",
    "    Rsph = np.full((ndti,nsc,3),np.nan)\n",
    "    dBnec = np.full((ndti,nsc,3),np.nan)\n",
    "    dBgeo = np.full((ndti,nsc,3),np.nan)\n",
    "    request = SwarmRequest()\n",
    "    for sc in range(nsc):\n",
    "        request.set_collection(\"SW_OPER_MAG\"+sats[sc]+\"_LR_1B\")\n",
    "        request.set_products(measurements=[\"B_NEC\"], \n",
    "                             models=[Bmodel],\n",
    "                             residuals=True, sampling_step=\"PT1S\")\n",
    "        data = request.get_between(start_time = tbeg, \n",
    "                                   end_time = tend,\n",
    "                                   asynchronous=False, show_progress=False)   \n",
    "        print('Used MAG L1B file: ', data.sources[1])\n",
    "        dat = data.as_dataframe()\n",
    "        dsi = dat.reindex(index=dti, method='nearest')\n",
    "        # store magnetic field perturbation in a data matrices\n",
    "        dBnec[:,sc,:] = np.stack(dsi['B_NEC_res_CHAOS-all'].values, axis=0)\n",
    "        coldBnec = pd.MultiIndex.from_product([['dBnec'],sats,['N','E','C']], \n",
    "                                   names=['Var','Sat','Com'])        \n",
    "        dB = pd.DataFrame(dBnec.reshape(-1,nsc*3), columns=coldBnec,index=dti)\n",
    "        if refframe == 'GEOC':\n",
    "            Rsph[:,sc,:] = dsi[['Latitude','Longitude','Radius']].values\n",
    "            latsc = np.deg2rad(Rsph[:,sc,0])\n",
    "            lonsc = np.deg2rad(Rsph[:,sc,1])  \n",
    "            radsc = 0.001*Rsph[:,sc,2]\n",
    "            # prepare conversion to global cartesian frame\n",
    "            clt,slt = np.cos(latsc.flat),np.sin(latsc.flat)\n",
    "            cln,sln = np.cos(lonsc.flat),np.sin(lonsc.flat)\n",
    "            north = np.stack((-slt*cln,-slt*sln,clt),axis=-1)\n",
    "            east = np.stack((-sln,cln,np.zeros(cln.shape)),axis=-1)\n",
    "            center = np.stack((-clt*cln,-clt*sln,-slt),axis=-1) \n",
    "            # read and convert magnetic field measurements\n",
    "            bnecsc = dBnec[:,sc,:]\n",
    "            dBgeo[:,sc,:] = np.matmul(np.stack((north,east,center),axis=-1),\n",
    "                              bnecsc[...,None]).reshape(bnecsc.shape)\n",
    "            coldBgeo = pd.MultiIndex.from_product([['dBgeo'],sats,['X','Y','Z']], \n",
    "                                   names=['Var','Sat','Com'])\n",
    "            dB = pd.DataFrame(dBgeo.reshape(-1,nsc*3), columns=coldBgeo,index=dti)\n",
    "    return dB"
   ]
  },
  {
   "cell_type": "markdown",
   "metadata": {},
   "source": [
    "<a id='input'></a>\n",
    "## Input parameters\n",
    "Sets the time interval to search for Swarm conjunctions above the auroral oval. These occur in consecutive orbits every approx. 6 days. The magnetic field model(s) used to derive the magnetic field perturbation (shown in the standard plots) is also specified."
   ]
  },
  {
   "cell_type": "code",
   "execution_count": null,
   "metadata": {},
   "outputs": [],
   "source": [
    "# Time range, satellites, and magnetic model\n",
    "dtime_beg = '2021-03-05T00:00:00'\n",
    "dtime_end = '2021-03-05T00:00:00'\n",
    "twidth = 120\n",
    "sats = ['A', 'B', 'C']\n",
    "Bmodel=\"CHAOS-all='CHAOS-Core'+'CHAOS-Static'+'CHAOS-MMA-Primary'+'CHAOS-MMA-Secondary'\""
   ]
  },
  {
   "cell_type": "markdown",
   "metadata": {},
   "source": [
    "### Data retrieval and preparation\n",
    "Uses viresclient to retrieve Swarm Level 2 single-sat. FAC data as well as auxiliary parameters, i.e. quasi-dipole latitude / longitude (QDLat / QDLon) and the magnetic local time (MLT) at spacecraft position. <br>\n",
    "For each satellite, the script downloads data corresponding to the full consecutive orbits that completely cover the original time-interval (i.e. a slightly larger interval is thus used) and stores it in the elements of dat_fac, which is a list of DataFrames objects. Note that:\n",
    "- In order to work with smaller arrays, only orbital sections where QDLat is $> 45^{\\,\\circ}$ or $<-45^{\\,\\circ}$  are retrieved. \n",
    "- The FAC data are also filtered using a low-pass Butterworth filter (column 'FAC_flt' in the DataFrame)\n",
    "- Since in the process of current integration, small FAC densities could badly affect the good identification of auroral oval, one possibility is to set to zero all current intensities below a certain value specified by the *jthr* parameter (column 'FAC_flt_sup' in the DataFrame)"
   ]
  },
  {
   "cell_type": "code",
   "execution_count": null,
   "metadata": {},
   "outputs": [],
   "source": [
    "%%time\n",
    "jthr = 0.05  # threshold value for the FAC intensity\n",
    "request = SwarmRequest()\n",
    "nsc = len(sats)\n",
    "orbs = np.full((nsc,2),np.nan)\n",
    "dat_fac = []\n",
    "tlarges = []\n",
    "for sc in tqdm(range(nsc)):\n",
    "    orb1 = request.get_orbit_number(sats[sc], dtime_beg, mission='Swarm')\n",
    "    orb2 = request.get_orbit_number(sats[sc], dtime_end, mission='Swarm')\n",
    "    print(orb1, orb2, orb2 - orb1)\n",
    "    orbs[sc, :] = [orb1, orb2]              \n",
    "    large_beg, large_end = request.get_times_for_orbits(orb1, orb2, mission='Swarm', spacecraft=sats[sc])\n",
    "    tlarges.append([large_beg, large_end])\n",
    "    dti = pd.date_range(start = large_beg, end = large_end, freq='s', closed='left')\n",
    "    # get FAC data for Northern hemisphere\n",
    "    request.set_collection('SW_OPER_FAC'+sats[sc]+'TMS_2F')\n",
    "    request.set_products(measurements=[\"FAC\"], \n",
    "                         auxiliaries=['QDLat','QDLon','MLT'],\n",
    "                         sampling_step=\"PT1S\")\n",
    "    request.set_range_filter('QDLat', 45, 90)\n",
    "    data = request.get_between(start_time = large_beg, \n",
    "                               end_time = large_end,\n",
    "                               asynchronous=True, show_progress=False)  \n",
    "    print('Used FAC file: ', data.sources[0])\n",
    "    datN_fac = data.as_dataframe()\n",
    "    request.clear_range_filter()   \n",
    "    # get FAC data for Southern hemisphere\n",
    "    request.set_range_filter('QDLat', -90, -45)\n",
    "    data = request.get_between(start_time = large_beg, \n",
    "                               end_time = large_end,\n",
    "                               asynchronous=True, show_progress=False)   \n",
    "    print('Used FAC file: ', data.sources[0])\n",
    "    datS_fac= data.as_dataframe()    \n",
    "    request.clear_range_filter()\n",
    "    # put toghether data from both hemispheres\n",
    "    dat = pd.concat([datN_fac, datS_fac]).sort_index()  \n",
    "    dat['FAC_flt'] = signal.filtfilt(bf, af, dat['FAC'].values)\n",
    "    dat['FAC_flt_sup'] = np.where(np.abs(dat['FAC_flt']) >= jthr, dat['FAC_flt'], 0)\n",
    "    # append data from different satellites\n",
    "    dat_fac.append(dat)    "
   ]
  },
  {
   "cell_type": "markdown",
   "metadata": {},
   "source": [
    "Plots the (filtered) L2 single-sat. FAC data over the whole interval"
   ]
  },
  {
   "cell_type": "code",
   "execution_count": null,
   "metadata": {},
   "outputs": [],
   "source": [
    "fig, (ax1, ax2, ax3) = plt.subplots(3, figsize=(12, 8), sharex='all')\n",
    "fig.suptitle('Filtered single-sat FAC intensities', fontsize=16)\n",
    "ax1.set_ylabel('Swarm A')\n",
    "ax1.plot(dat_fac[0]['FAC_flt'])\n",
    "ax2.set_ylabel('Swarm B')\n",
    "ax2.plot(dat_fac[1]['FAC_flt'])\n",
    "ax3.set_ylabel('Swarm C')\n",
    "ax3.plot(dat_fac[2]['FAC_flt'])"
   ]
  },
  {
   "cell_type": "markdown",
   "metadata": {},
   "source": [
    "## Identification of auroral oval location\n",
    "For each satellite, data is first split in half-orbit sections, corresponding to the Northern or Southern hemisphere. In the next stage, the half-orbit intervals are further split in quarter-orbits, using as separator the time instant when QDLat acquires its extreme value.<br>\n",
    "Then, for each quarter-orbit section, *find_jabs_midcsum* is called to estimate the central position of the auroral oval (approximated as the time when the cumulative sum of unsigned L2 FAC density reaches its half maximum). The function also returns the QDlat trend, sign, and value at central FAC for that quarter-orbit section. <br>\n",
    "After running the cell, the (three elements, i.e. one for each sat.) lists *_3sc contain np.arrays with FAC central times, QDlat trend, QDLat sign, QDLat value at central FAC, start and stop times for quarter-orbits when FAC intensity has value above the set threshold."
   ]
  },
  {
   "cell_type": "code",
   "execution_count": null,
   "metadata": {},
   "outputs": [],
   "source": [
    "jabs_times_3sc, qd_trends_3sc, qd_signs_3sc, qd_aos_3sc, \\\n",
    "    qdlon_aos_3sc, beg_qor_3sc, end_qor_3sc = ([] for i in range(7))\n",
    "for sc in range(nsc):\n",
    "    # nr. of 1/2 orbits and 1/2 orbit duration \n",
    "    nrho = int((orbs[sc,1] - orbs[sc,0] + 1)*2)    \n",
    "    dtho = (tlarges[sc][1] - tlarges[sc][0])/nrho  \n",
    "    # start and stop of 1/2 orbits\n",
    "    begend_hor = [tlarges[sc][0] + ii*dtho for ii in range(nrho +1)]\n",
    "    # splits DataFrame in 1/2 orbit sections; get time of maximum QDLat for each\n",
    "    horbs = split_into_sections(dat_fac[sc], begend_hor)\n",
    "    times_maxQDLat = [horbs[ii]['QDLat'].abs().idxmax().to_pydatetime() \\\n",
    "                    for ii in range(nrho)]\n",
    "    begend_qor = sorted(times_maxQDLat + begend_hor)\n",
    "    # splits DataFrame in 1/4 orbits sections;\n",
    "    qorbs = split_into_sections(dat_fac[sc], begend_qor)\n",
    "    # finds times when integrated absolute value of J reached its mid height\n",
    "    jabs_times, qd_trends, qd_signs, qd_aos, qdlon_aos = \\\n",
    "        (np.full(len(qorbs),np.nan) for i in range(5))\n",
    "    \n",
    "    for jj in range(len(qorbs)):\n",
    "        [jabs_times[jj], qd_trends[jj], qd_signs[jj], qd_aos[jj], \\\n",
    "         qdlon_aos[jj], ] = find_jabs_midcsum(qorbs[jj])[0:5]\n",
    "    # keeps only 1/4 orbits when jabs_times is not np.nan (i.e with\n",
    "    # points having current intensity above the set threshold)\n",
    "    ind_notnan = np.flatnonzero(np.isfinite(jabs_times))\n",
    "    jabs_times_3sc.append(jabs_times[ind_notnan])\n",
    "    qd_trends_3sc.append(qd_trends[ind_notnan])\n",
    "    qd_signs_3sc.append(qd_signs[ind_notnan])\n",
    "    qd_aos_3sc.append(qd_aos[ind_notnan])\n",
    "    qdlon_aos_3sc.append(qdlon_aos[ind_notnan])\n",
    "    beg_qor_3sc.append(np.array(begend_qor)[ind_notnan])\n",
    "    end_qor_3sc.append(np.array(begend_qor)[ind_notnan + 1])"
   ]
  },
  {
   "cell_type": "markdown",
   "metadata": {},
   "source": [
    "<a id='def_conj'></a>\n",
    "## Definition of s/c conjunction\n",
    "\n",
    "To define Swarm near-conjunctions, one condition should involve the values of auroral central times, i.e. timesX (X=[A, B, C]). In addition, depending on the particular study, one needs to impose conditions on other quantities, like sign and trend of QDLat or QDLon values at central FAC. \n",
    "- For finding Swarm conjunctions at the beginning of the mission, when satellites revolve in the same direction along their orbits, one could use the conditions that timesX refer to the same branch of the orbit (same trend and sign of QDLat)\n",
    "- For finding conjunctions during the period of counter-rotating orbits, the above condition could change to impose different trends in QDLat for SwarmB and SwarmA/SwarmC.\n",
    "- For studies that look at FAC longitudinal gradients, one could require a separation in QDLon values at central FAC within a certain range (e.g. using the formula dLon = (QDLonA - QDLonB + 180) % 360 - 180 to compute longitudinal separation in degree).<br><br>\n",
    "The script below applies to the first situation listed above, using the following criteria:\n",
    "- timesB within *twidth* limit from timesA or timesC\n",
    "- timesX refer to the same trend and sign of QDLat <br>\n",
    "\n",
    "After running the cell, *conj_tbl* (list of three elements, i.e. one for each sat.) contains the indexes of quarter-orbit intervals when Swarm satellites were in near-conjunction. Results are listed and stored in an ASCII file as: timesB , timesB - timesA, timesB - timesC, QDLat and QDLon values for each sat. at central FAC. <br>\n"
   ]
  },
  {
   "cell_type": "code",
   "execution_count": null,
   "metadata": {},
   "outputs": [],
   "source": [
    "str_trange = dtime_beg.replace('-','')[:8]+'_'+ \\\n",
    "    dtime_beg.replace(':','')[11:15] + '_'+ \\\n",
    "    dtime_end.replace('-','')[:8] + '_'+ \\\n",
    "    dtime_end.replace(':','')[11:15]\n",
    "fname_txt = 'swABC_conjunction_long_'+ str_trange + '.txt'\n",
    "with open(fname_txt, 'w') as file:\n",
    "        file.write('# time swB [%Y-%m-%dT%H:%M:%S], ' + \\\n",
    "                   'time diff. swA-swB, time diff. swC-swB,  ' + \\\n",
    "                   'QDLatA,  QDLatB,  QDLatC, QDLonA,  QDLonB,  QDLonC \\n')\n",
    "# moments when each s/c encounters the central auroral oval\n",
    "timesA = pd.to_datetime(jabs_times_3sc[0])    \n",
    "timesB = pd.to_datetime(jabs_times_3sc[1])\n",
    "timesC = pd.to_datetime(jabs_times_3sc[2])\n",
    "conj_tbl = []\n",
    "for indB in range(len(timesB)):\n",
    "    indA = (np.abs(timesA - timesB[indB])).argmin()\n",
    "    indC = (np.abs(timesC - timesB[indB])).argmin()\n",
    "    if ((np.abs(timesA[indA] - timesB[indB]).total_seconds() <= twidth or \\\n",
    "        np.abs(timesC[indC] - timesB[indB]).total_seconds() <= twidth) and \\\n",
    "        (qd_trends_3sc[0][indA]*qd_trends_3sc[1][indB] < 0) and \\\n",
    "        (qd_signs_3sc[0][indA]*qd_signs_3sc[1][indB] > 0)):\n",
    "        #(np.abs((qdlon_aos_3sc[1][indB] - qdlon_aos_3sc[0][indA] + \\\n",
    "        #         180) % 360 - 180) <= 40)):\n",
    "        print(indB, timesB[indB].strftime('%Y-%m-%dT%H:%M:%S'), '  ',\\\n",
    "            str(int((timesA[indA] - timesB[indB]).total_seconds())), '  ',\\\n",
    "            str(int((timesC[indC] - timesB[indB]).total_seconds())), '  ', \\\n",
    "            str(round(qd_aos_3sc[0][indA],2)), '  ', \\\n",
    "            str(round(qd_aos_3sc[1][indB],2)), '  ', \\\n",
    "            str(round(qd_aos_3sc[2][indC],2)), '  ', \\\n",
    "            str(round(qdlon_aos_3sc[0][indA],2)), '  ', \\\n",
    "            str(round(qdlon_aos_3sc[1][indB],2)), '  ', \\\n",
    "            str(round(qdlon_aos_3sc[2][indC],2)))\n",
    "        conj_tbl.append([indA, indB, indC])\n",
    "        with open(fname_txt, 'a') as file:\n",
    "            file.write(timesB[indB].strftime('%Y-%m-%dT%H:%M:%S') + '   ' +\\\n",
    "                str(int((timesA[indA] - timesB[indB]).total_seconds()))+ '   ' +\\\n",
    "                str(int((timesC[indC] - timesB[indB]).total_seconds()))+ '   ' +\\\n",
    "                str(round(qd_aos_3sc[0][indA],2))+ '   ' + \\\n",
    "                str(round(qd_aos_3sc[1][indB],2))+ '   ' + \\\n",
    "                str(round(qd_aos_3sc[2][indC],2))+ '   ' + \\\n",
    "                str(round(qdlon_aos_3sc[0][indA],2))+ '   ' + \\\n",
    "                str(round(qdlon_aos_3sc[1][indB],2))+ '   ' + \\\n",
    "                str(round(qdlon_aos_3sc[2][indC],2))+ '\\n')"
   ]
  },
  {
   "cell_type": "markdown",
   "metadata": {},
   "source": [
    "## Plotting the results\n",
    "Generates plots for the identified conjunctions, i.e. 10 minutes intervals centered on time instances listed above. The magnetic field perturbation in GEOC (obtained by calling *get_db_data* function) and (low-pass filtered) single-sat. FAC density data are plotted for each satellite. The auroral central times (i.e. Times[A,B,C]) and times when (unsigned) QDLat is maximum are indicated. The last three panels plot the magnetic field perturbation as a function of QDLat; QDLat values at central FAC is also indicated. <br>\n",
    "At the end, all the plots are collected in a multi-page pdf file."
   ]
  },
  {
   "cell_type": "code",
   "execution_count": null,
   "metadata": {},
   "outputs": [],
   "source": [
    "fname_plots = 'plots_swABC_conjunction_long_'+ str_trange + '.pdf'\n",
    "\n",
    "marg = pd.to_timedelta(300, unit='s')\n",
    "list_plots = []\n",
    "for kk in tqdm(range(len(conj_tbl))):\n",
    "    print(kk)\n",
    "    idxconj = conj_tbl[kk]\n",
    "    dBgeo = get_db_data(sats, timesB[idxconj[1]] - marg, \\\n",
    "                        timesB[idxconj[1]] + marg, Bmodel)\n",
    "    %run -i \"plot_3sat_conjunction.py\"\n",
    "    list_plots.append(fname_fig)\n",
    "    \n",
    "list_plots_str = ' '.join(list_plots)\n",
    "!gs -dNOPAUSE -sDEVICE=pdfwrite -sOUTPUTFILE={fname_plots} -dBATCH {list_plots_str}"
   ]
  }
 ],
 "metadata": {
  "anaconda-cloud": {},
  "kernelspec": {
   "display_name": "Python 3 (ipykernel)",
   "language": "python",
   "name": "python3"
  },
  "language_info": {
   "codemirror_mode": {
    "name": "ipython",
    "version": 3
   },
   "file_extension": ".py",
   "mimetype": "text/x-python",
   "name": "python",
   "nbconvert_exporter": "python",
   "pygments_lexer": "ipython3",
   "version": "3.9.10"
  }
 },
 "nbformat": 4,
 "nbformat_minor": 4
}
