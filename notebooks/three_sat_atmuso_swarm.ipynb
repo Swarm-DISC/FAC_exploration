{
 "cells": [
  {
   "cell_type": "markdown",
   "metadata": {},
   "source": [
    "# Three-sat atmuso on Swarm\n",
    "Adrian Blagau (Institute for Space Sciences, Bucharest) <br>\n",
    "Joachim Vogt (Jacobs University Bremen) <br>\n",
    "Version Feb. 2020"
   ]
  },
  {
   "cell_type": "markdown",
   "metadata": {},
   "source": [
    "This notebook accompanies the article [\"Multipoint Field-Aligned Current Estimates With Swarm\"](https://doi.org/10.1029/2018JA026439) by A. Blagau, and J. Vogt, 2019. When used for publications, please acknowledge the authors' work by citing the paper."
   ]
  },
  {
   "cell_type": "markdown",
   "metadata": {},
   "source": [
    "**Introduction** The notebook makes use of the three-s/c gradient estimation method, developed in [Vogt, Albert, and Marghitu, 2009](https://doi.org/10.5194/angeo-27-3249-2009) to estimates the field-aligned current (FAC) density from the Swarm measurements when the satellites are in a close configuration. A detailed discussion on applying the three-s/c method in the context of Swarm (notably selection of events and other critical aspects) is provided in [Blagau and Vogt, 2019](https://doi.org/10.1029/2018JA026439)\n",
    "\n",
    "In the <a href=\"#input\" style=\"color:green\">Input parameters</a> section, the user specifies the interval of analysis and the magnetic model(s) used to compute the magnetic field perturbation. Optionaly, the sensor data can be shifted in time (*tshift* array) and/or can be filtered."
   ]
  },
  {
   "cell_type": "markdown",
   "metadata": {},
   "source": [
    "Importing useful libraries (numpy, pandas, matplotlib, ...)"
   ]
  },
  {
   "cell_type": "code",
   "execution_count": null,
   "metadata": {},
   "outputs": [],
   "source": [
    "import numpy as np\n",
    "import pandas as pd\n",
    "from tqdm.auto import tqdm\n",
    "from scipy import signal\n",
    "import matplotlib.pyplot as plt\n",
    "import datetime as dtm\n",
    "import matplotlib.dates as mdt\n",
    "%matplotlib inline"
   ]
  },
  {
   "cell_type": "code",
   "execution_count": null,
   "metadata": {},
   "outputs": [],
   "source": [
    "import warnings\n",
    "warnings.filterwarnings(\"ignore\")"
   ]
  },
  {
   "cell_type": "markdown",
   "metadata": {},
   "source": [
    "Prepare to access ESA’s Swarm mission data and models from VirES environment"
   ]
  },
  {
   "cell_type": "code",
   "execution_count": null,
   "metadata": {},
   "outputs": [],
   "source": [
    "from viresclient import SwarmRequest"
   ]
  },
  {
   "cell_type": "markdown",
   "metadata": {},
   "source": [
    "## Define some convenience functions "
   ]
  },
  {
   "cell_type": "markdown",
   "metadata": {},
   "source": [
    "Computes the parameters of a low-pass Butterworth filter, if one decides to filter the data"
   ]
  },
  {
   "cell_type": "code",
   "execution_count": null,
   "metadata": {},
   "outputs": [],
   "source": [
    "fs = 1  # Sampling frequency\n",
    "fc = 1./20.  # Cut-off frequency of a 20 s low-pass filter\n",
    "w = fc / (fs / 2) # Normalize the frequency\n",
    "butter_ord = 5\n",
    "bf, af = signal.butter(butter_ord, w, 'low')"
   ]
  },
  {
   "cell_type": "markdown",
   "metadata": {},
   "source": [
    "Define *recivec3s* function to compute the reciprocal vectors for a three-s/c configuration"
   ]
  },
  {
   "cell_type": "code",
   "execution_count": null,
   "metadata": {},
   "outputs": [],
   "source": [
    "def recivec3s(R):\n",
    "    Rc = np.mean(R, axis=-2)\n",
    "    Rmeso = R - Rc[:, np.newaxis, :]\n",
    "    r12 = Rmeso[:,1,:] - Rmeso[:,0,:]\n",
    "    r13 = Rmeso[:,2,:] - Rmeso[:,0,:]\n",
    "    r23 = Rmeso[:,2,:] - Rmeso[:,1,:]\n",
    "    nuvec = np.cross(r12, r13)\n",
    "    nuvec_norm = np.linalg.norm(nuvec, axis=-1, keepdims=True)\n",
    "    nuvec = np.divide(nuvec, nuvec_norm)\n",
    "    Q3S = np.stack((np.cross(nuvec,r23), np.cross(nuvec,-r13), np.cross(nuvec,r12)),axis = -2)\n",
    "    Q3S = np.divide(Q3S, nuvec_norm[...,None])\n",
    "    Qtens = np.sum(np.matmul(Q3S[:,:,:,None],Q3S[:,:,None, :]), axis = -3)    \n",
    "    Rtens = np.sum(np.matmul(Rmeso[:,:,:,None],Rmeso[:,:,None, :]), axis = -3)\n",
    "    return Rc, Rmeso, nuvec, Q3S, Qtens, Rtens"
   ]
  },
  {
   "cell_type": "markdown",
   "metadata": {},
   "source": [
    "<a id='input'></a>\n",
    "## Input parameters\n",
    "\n",
    "Specify the time interval, the satellites, the magnetic field model. Optionaly, the sensor data can be shifted in time and/or can be filtered  "
   ]
  },
  {
   "cell_type": "code",
   "execution_count": null,
   "metadata": {},
   "outputs": [],
   "source": [
    "dtime_beg = '2014-06-29T12:33:00'\n",
    "dtime_end = '2014-06-29T12:38:00'\n",
    "sats = ['A','B','C']\n",
    "Bmodel=\"CHAOS-all='CHAOS-Core'+'CHAOS-Static'+'CHAOS-MMA-Primary'+'CHAOS-MMA-Secondary'\"\n",
    "#tshift = [0, 10, 4]  # optional time-shift introduced between the Swarm sensors\n",
    "tshift = [0, 0, 0]  \n",
    "use_filter = False   # 'True' for filtering the data"
   ]
  },
  {
   "cell_type": "markdown",
   "metadata": {},
   "source": [
    "## Data retrieval and preparation\n",
    "\n",
    "Reads from VirES the sat. position (*Rsph*), magnetic L1b measurement (*Bsw*), and magnetic field model (*Bmod*). The quality flag of VFM data, i.e. *Flags_B* in the L1b files, is read as well. For a description of Flags_B values see [Swarm Level 1b Product Definition](https://earth.esa.int/web/guest/missions/esa-eo-missions/swarm/data-handbook/level-1b-product-definitions#label-Flags_F-and-Flags_B-Values-of-MDR_MAG_LR) from the Swarm documentation.\n",
    "The script identifies (and leaves unchanged) poor quality data points, i.e. when *Flags_B* > 0, as well as data gaps (and fills them with the values of the nearest neighboring point)."
   ]
  },
  {
   "cell_type": "code",
   "execution_count": null,
   "metadata": {
    "scrolled": true
   },
   "outputs": [],
   "source": [
    "dti = pd.date_range(start = dtime_beg, end = dtime_end, freq='s', closed='left')\n",
    "ndti = len(dti)\n",
    "nsc = len(sats)\n",
    "datagaps={}\n",
    "Rsph = np.full((ndti,nsc,3),np.nan)\n",
    "Bsw = np.full((ndti,nsc,3),np.nan)\n",
    "Bmod = np.full((ndti,nsc,3),np.nan)\n",
    "FlagsB = np.full((ndti,nsc),np.nan)\n",
    "request = SwarmRequest()\n",
    "for sc in tqdm(range(nsc)):\n",
    "    request.set_collection(\"SW_OPER_MAG\"+sats[sc]+\"_LR_1B\")\n",
    "    request.set_products(measurements=[\"B_NEC\",\"Flags_B\"], \n",
    "                         models=[Bmodel],\n",
    "                         sampling_step=\"PT1S\")\n",
    "    data = request.get_between(start_time = dtime_beg, \n",
    "                               end_time = dtime_end,\n",
    "                               asynchronous=False, show_progress=False)   \n",
    "    print('Used MAG L1B file: ', data.sources[1])\n",
    "    dat = data.as_dataframe()\n",
    "    datagaps[sats[sc]] = dti.difference(dat.index)   \n",
    "    dsi = dat.reindex(index=dti, method='nearest')\n",
    "    # store position, magnetic field and magnetic model vectors in corresponding data matrices\n",
    "    Rsph[:,sc,:] = dsi[['Latitude','Longitude','Radius']].values\n",
    "    Bsw[:,sc,:] = np.stack(dsi['B_NEC'].values, axis=0)\n",
    "    Bmod[:,sc,:] = np.stack(dsi['B_NEC_CHAOS-all'].values, axis=0)  \n",
    "    FlagsB[:,sc] = dsi['Flags_B'].values\n",
    "# collect all data in a single DataFrame for inspection\n",
    "colRsph = pd.MultiIndex.from_product([['Rsph'],sats,['Lat','Lon','Radius']], \n",
    "                                   names=['Var','Sat','Com'])\n",
    "dfRsph = pd.DataFrame(Rsph.reshape(-1,nsc*3),columns=colRsph,index=dti)\n",
    "\n",
    "colBswBmod = pd.MultiIndex.from_product([['Bsw','Bmod'],sats,['N','E','C']], \n",
    "                                   names=['Var','Sat','Com'])\n",
    "dfBswBmod = pd.DataFrame(np.concatenate((Bsw.reshape(-1,nsc*3), \n",
    "                                         Bmod.reshape(-1,nsc*3)),axis=1), \n",
    "                         columns=colBswBmod,index=dti)\n",
    "\n",
    "dfFB = pd.DataFrame(FlagsB.reshape(-1,nsc),columns=sats,index=dti)\n",
    "\n",
    "RsphBswBmod = pd.merge(dfRsph, dfBswBmod, left_index=True, right_index=True)"
   ]
  },
  {
   "cell_type": "markdown",
   "metadata": {},
   "source": [
    "Show the first lines of data structure for inspection"
   ]
  },
  {
   "cell_type": "code",
   "execution_count": null,
   "metadata": {
    "scrolled": true
   },
   "outputs": [],
   "source": [
    "RsphBswBmod.head()"
   ]
  },
  {
   "cell_type": "markdown",
   "metadata": {},
   "source": [
    "Print a report about the quality of VFM data, i.e. the sum of *Flags_B* values for each satellite (idealy 0) and the number of missing data points (idealy 0). Print timestamps with nonzero *Flags_B* values or when data is missing (if applicable)."
   ]
  },
  {
   "cell_type": "code",
   "execution_count": null,
   "metadata": {},
   "outputs": [],
   "source": [
    "FBnonzero = dfFB.loc[ (dfFB.A > 0) | (dfFB.B > 0) | (dfFB.C > 0)]\n",
    "FBnA = dfFB['A'].loc[ (dfFB.A > 0)]\n",
    "FBnB = dfFB['B'].loc[ (dfFB.B > 0)]\n",
    "FBnC = dfFB['C'].loc[ (dfFB.C > 0)]\n",
    "print('Number of points with non-zero quality flag / missing data:')\n",
    "print('Swarm A: ', FBnA.count(), ' / ', datagaps['A'].size)\n",
    "print('Swarm B: ', FBnB.count(), ' / ', datagaps['B'].size)\n",
    "print('Swarm C: ', FBnC.count(), ' / ', datagaps['C'].size)\n",
    "print()\n",
    "if dfFB.sum(axis=0).sum(0) :\n",
    "    print('Time stamps with nonzero FlagsB:')\n",
    "    print(FBnonzero)\n",
    "if datagaps['A'].size :\n",
    "    print('Missing data for Swarm A: ', datagaps['A'].values)    \n",
    "if datagaps['B'].size :\n",
    "    print('Missing data for Swarm B: ', datagaps['B'].values)    \n",
    "if datagaps['C'].size :\n",
    "    print('Missing data for Swarm C: ', datagaps['C'].values)        "
   ]
  },
  {
   "cell_type": "markdown",
   "metadata": {},
   "source": [
    "Computes sats positons (*R*), magnetic measurements (*B*), and magnetic field perturbations (*dB*) in the global geographic (cartesian) frame. Takes care of the optional time-shifts introduced between the sensors. Filters the magnetic field perturbations if requested so."
   ]
  },
  {
   "cell_type": "code",
   "execution_count": null,
   "metadata": {
    "scrolled": true
   },
   "outputs": [],
   "source": [
    "ts = np.around(np.array(tshift) - min(tshift))\n",
    "tsh3s = np.around(np.mean(ts), decimals=3)\n",
    "ndt = ndti - max(ts)\n",
    "dt = dti[:ndt].shift(1000.*tsh3s,freq='ms')  # new data timeline\n",
    "R = np.full((ndt,nsc,3),np.nan)\n",
    "B = np.full((ndt,nsc,3),np.nan)\n",
    "dB = np.full((ndt,nsc,3),np.nan)\n",
    "for sc in range(nsc):\n",
    "    latsc = np.deg2rad(Rsph[ts[sc]:ts[sc]+ndt,sc,0])\n",
    "    lonsc = np.deg2rad(Rsph[ts[sc]:ts[sc]+ndt,sc,1])  \n",
    "    radsc = 0.001*Rsph[ts[sc]:ts[sc]+ndt,sc,2]\n",
    "    # prepare conversion to global cartesian frame\n",
    "    clt,slt = np.cos(latsc.flat),np.sin(latsc.flat)\n",
    "    cln,sln = np.cos(lonsc.flat),np.sin(lonsc.flat)\n",
    "    north = np.stack((-slt*cln,-slt*sln,clt),axis=-1)\n",
    "    east = np.stack((-sln,cln,np.zeros(cln.shape)),axis=-1)\n",
    "    center = np.stack((-clt*cln,-clt*sln,-slt),axis=-1)\n",
    "    # store cartesian position vectors in position data matrix R\n",
    "    R[:,sc,:] = -radsc[...,None]*center\n",
    "    # store magnetic field measurements in the same frame\n",
    "    bnecsc = Bsw[ts[sc]:ts[sc]+ndt,sc,:]\n",
    "    B[:,sc,:] = np.matmul(np.stack((north,east,center),axis=-1),\n",
    "                              bnecsc[...,None]).reshape(bnecsc.shape)\n",
    "    # store magnetic field perturbation in the same frame\n",
    "    dbnecsc = Bsw[ts[sc]:ts[sc]+ndt,sc,:] - Bmod[ts[sc]:ts[sc]+ndt,sc,:]     \n",
    "    dB[:,sc,:] = np.matmul(np.stack((north,east,center),axis=-1),\n",
    "                              dbnecsc[...,None]).reshape(dbnecsc.shape) \n",
    "    if use_filter:\n",
    "        dB[:,sc,:] = signal.filtfilt(bf, af, dB[:,sc,:], axis=0)\n",
    "# collect all data in a single DataFrame\n",
    "colRBdB = pd.MultiIndex.from_product([['R','B','dB'],sats,['x','y','z']], \n",
    "                                   names=['Var','Sat','Com'])\n",
    "RBdB = pd.DataFrame(np.concatenate((R.reshape(-1,nsc*3),B.reshape(-1,nsc*3),dB.reshape(-1,nsc*3)),axis=1),\n",
    "                      columns=colRBdB,index=dt)"
   ]
  },
  {
   "cell_type": "markdown",
   "metadata": {},
   "source": [
    "Read two-s/s FAC estimate from the L2 product for later comparison"
   ]
  },
  {
   "cell_type": "code",
   "execution_count": null,
   "metadata": {},
   "outputs": [],
   "source": [
    "request.set_collection('SW_OPER_FAC_TMS_2F')\n",
    "request.set_products(measurements=\"FAC\", sampling_step=\"PT1S\")\n",
    "data = request.get_between(\n",
    "    start_time = dtime_beg, \n",
    "    end_time = dtime_end,\n",
    "    asynchronous=False, show_progress=False\n",
    ")  \n",
    "print('Used FAC file: ', data.sources[0])\n",
    "FAC_L2 = data.as_dataframe()"
   ]
  },
  {
   "cell_type": "markdown",
   "metadata": {},
   "source": [
    "## Compute the FAC density and other parameters\n",
    "\n",
    "Uses recivec3s() function to compute the mesocenter of the Swarm constellation (*Rc*), the s/c positions in the mesocentric frame (*Rmeso*), the direction normal to spacecraft plane (*nuvec*), the reciprocal vectors (*Q3S*), the reciprocal tensor (*Qtens*), and the position tensor (*Rtens*). "
   ]
  },
  {
   "cell_type": "code",
   "execution_count": null,
   "metadata": {},
   "outputs": [],
   "source": [
    "Rc, Rmeso, nuvec, Q3S, Qtens, Rtens = recivec3s(R)"
   ]
  },
  {
   "cell_type": "markdown",
   "metadata": {},
   "source": [
    "Computes the direction of (unsubtracted) local magnetic field *Bunit* and the orientation of spacecraft plane with respect to *Bunit* (*cosBN* and *angBN*). Register (for later exclusion) data points where B vector is too close to the spacecraft plane, i.e. below a threshold value set in *angTHR*."
   ]
  },
  {
   "cell_type": "code",
   "execution_count": null,
   "metadata": {},
   "outputs": [],
   "source": [
    "Bunit = B.mean(axis=-2)/np.linalg.norm(B.mean(axis=-2),axis=-1)[...,None]\n",
    "cosBN = np.matmul(Bunit[...,None,:],nuvec[...,:,None]).reshape(dt.shape)\n",
    "angBN = pd.Series(np.arccos(cosBN)*180./np.pi, index=dt) \n",
    "angTHR = 25.\n",
    "texcl = (np.absolute(angBN) < 90 + angTHR) & (np.absolute(angBN) > 90 - angTHR)"
   ]
  },
  {
   "cell_type": "markdown",
   "metadata": {},
   "source": [
    "Estimates the curl of magnetic field perturbation *curlB*. Associates its normal / radial component *curlBrad* with an electric current of density *Jfac*, flowing along the magnetic field line."
   ]
  },
  {
   "cell_type": "code",
   "execution_count": null,
   "metadata": {},
   "outputs": [],
   "source": [
    "muo = 4*np.pi*1e-7\n",
    "CurlB = np.sum( np.cross(Q3S,dB,axis=-1), axis=-2 )\n",
    "CurlBrad = np.matmul(CurlB[...,None,:],nuvec[...,:,None]).reshape(dt.shape)\n",
    "Jfac= (1e-6/muo)*pd.Series(CurlBrad/cosBN,index=dt)\n",
    "Jfac.loc[texcl] = np.nan\n",
    "plt.figure(figsize = [10,4])\n",
    "plt.plot(Jfac)\n",
    "plt.ylabel('$J_{FAC}$\\n[$\\mu A/m^2$]')\n",
    "plt.xlabel('Time');"
   ]
  },
  {
   "cell_type": "markdown",
   "metadata": {},
   "source": [
    "The condition number *CN3* evaluates the stability of the solution (the quality of the *Rtens* inversion). The error *errJ* in FAC density due to (mutualy uncorrelated and isotropic) instrumental noise is evaluated by considering a flat value *db* nT for δB"
   ]
  },
  {
   "cell_type": "code",
   "execution_count": null,
   "metadata": {
    "scrolled": true
   },
   "outputs": [],
   "source": [
    "eigval = np.sort(np.linalg.eigvals(Rtens), axis=-1)\n",
    "CN3 = pd.Series(np.log10(np.divide(eigval[:,2],eigval[:,1])),index=dt)\n",
    "\n",
    "db = 0.5\n",
    "if use_filter:\n",
    "    db = 0.2\n",
    "traceq = np.trace(Qtens, axis1=-2, axis2=-1)\n",
    "errJ = 1e-6*db/muo*pd.Series(np.sqrt(traceq)/np.absolute(cosBN),index=dt)\n",
    "errJ.loc[texcl] = np.nan"
   ]
  },
  {
   "cell_type": "markdown",
   "metadata": {},
   "source": [
    "## Plot and save the results"
   ]
  },
  {
   "cell_type": "markdown",
   "metadata": {},
   "source": [
    "The script below produces a plot and two ASCII files, for the input data and for the results. A third ASCII file (input data quality report) is produced if non-zero quality flag and/or missing data points are present in the input data.\n",
    "The generated plot presents:\n",
    "- the NEC components of the magnetic field perturbation, *dB*, for all three satellites. A common range along y axes is used\n",
    "- the logarithm of the condition number, *CN3*\n",
    "- angle between the normal to the spacecraft plane and the direction of local ambient magnetic field.\n",
    "- comparison between the FAC density estimated with the three-s/c method and the ESA L2 FAC product obtained from the dual-s/c method. \n",
    "- the FAC estimation errors due to instrumental noise  \n",
    "\n",
    "The values for tick labels refer to the position of the mesocenter.\n",
    "\n",
    "On the bottom, the spacecraft configurations are shown at three instances (i.e. beginning, middle, and end of the interval) projected on the NE plane of the local NEC coordinate frame tied to the mesocenter. The s/c velocity vectors are also indicated by arrows. "
   ]
  },
  {
   "cell_type": "code",
   "execution_count": null,
   "metadata": {},
   "outputs": [],
   "source": [
    "%run -i \"plot_and_save_three_sat.py\""
   ]
  }
 ],
 "metadata": {
  "anaconda-cloud": {},
  "kernelspec": {
   "display_name": "Python 3",
   "language": "python",
   "name": "python3"
  },
  "language_info": {
   "codemirror_mode": {
    "name": "ipython",
    "version": 3
   },
   "file_extension": ".py",
   "mimetype": "text/x-python",
   "name": "python",
   "nbconvert_exporter": "python",
   "pygments_lexer": "ipython3",
   "version": "3.8.8"
  }
 },
 "nbformat": 4,
 "nbformat_minor": 4
}
