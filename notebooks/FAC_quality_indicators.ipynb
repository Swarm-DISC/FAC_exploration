{
 "cells": [
  {
   "cell_type": "markdown",
   "metadata": {},
   "source": [
    "# Swarm FAC quality indicators"
   ]
  },
  {
   "cell_type": "markdown",
   "metadata": {},
   "source": [
    "Adrian Blagau (Institute for Space Sciences, Bucharest)  \n",
    "Joachim Vogt (Jacobs University Bremen)  \n",
    "Version Dec. 2021"
   ]
  },
  {
   "cell_type": "markdown",
   "metadata": {},
   "source": [
    "This notebook accompanies the article [\"Multipoint Field-Aligned Current Estimates With Swarm\"](https://doi.org/10.1029/2018JA026439) by A. Blagau, and J. Vogt, 2019. When used for publications, please acknowledge the authors' work by citing the paper."
   ]
  },
  {
   "cell_type": "markdown",
   "metadata": {},
   "source": [
    "**Introduction** A set of quality indicators is calculated for each auroral oval (AO) crossing  within the specified interval. After an automatic identification of AO location, the MVA technique and the correlation analysis are used to characterize the FAC sheet planarity, inclination and stationarity. Being closely related to the underlying assumptions used in different FAC density estimation technique, the indicators are meant to help the users in assessing the quality of these estimations.\n",
    "\n",
    "To easily follow the logical flow in the notebook, the functions listed below are put in the accompanying *funcs_quality_indicators.py* python script:\n",
    "- *split_into_sections* : splits a DataFrame in a list of DataFrames\n",
    "- *normvec* : computes the unit-vectors of a vector time series\n",
    "- *rotvecax* : rotates a vector by an angle around another vector\n",
    "- *sign_ang* : returns the signed angle between two vectors\n",
    "- *R_B_dB_in_GEOC* : transforms in GEO Cartesian frame the satellite position (initially in spherical coordinates) and magnetic field & perturbation (initially in NEC) \n",
    "- *singleJfac* : computes the single-satellite FAC density\n",
    "- *find_ao_margins* : estimates the margins of auroral oval on a quarter-orbit interval\n",
    "- *mva* : performs MVA and constrained MVA on an array of 3D vector\n",
    "\n",
    "In the <a href=\"#input\" style=\"color:green\">Input parameters</a> section, the user could specify the time interval to search for conjunctions and the parameter that temporally constrains the conjunction. The spatial constraints are discussed in section <a href=\"#def_conj\" style=\"color:green\">Definition of s/c conjunction</a> and could be changed by the user according to specific needs."
   ]
  },
  {
   "cell_type": "markdown",
   "metadata": {},
   "source": [
    "Importing useful libraries (numpy, pandas, matplotlib, ...)"
   ]
  },
  {
   "cell_type": "code",
   "execution_count": null,
   "metadata": {},
   "outputs": [],
   "source": [
    "# Uncomment if necessary:\n",
    "# %matplotlib inline\n",
    "# Uncomment for interactivity:\n",
    "# %matplotlib widget\n",
    "\n",
    "import numpy as np\n",
    "import pandas as pd\n",
    "from scipy import signal\n",
    "from scipy.interpolate import interp1d\n",
    "import datetime as dtm\n",
    "from datetime import timezone\n",
    "import matplotlib.pyplot as plt\n",
    "import matplotlib.dates as mdt\n",
    "\n",
    "from funcs_fac import *\n",
    "\n",
    "import warnings\n",
    "warnings.filterwarnings('ignore')"
   ]
  },
  {
   "cell_type": "markdown",
   "metadata": {},
   "source": [
    "Prepare to access ESA’s Swarm mission data and models from VirES environment"
   ]
  },
  {
   "cell_type": "code",
   "execution_count": null,
   "metadata": {},
   "outputs": [],
   "source": [
    "from viresclient import SwarmRequest"
   ]
  },
  {
   "cell_type": "markdown",
   "metadata": {
    "tags": []
   },
   "source": [
    "## Defining some convenience functions"
   ]
  },
  {
   "cell_type": "markdown",
   "metadata": {},
   "source": [
    "Computes the parameters of a low-pass Butterworth filter, if one decides to filter the data"
   ]
  },
  {
   "cell_type": "code",
   "execution_count": null,
   "metadata": {},
   "outputs": [],
   "source": [
    "fs = 1  # Sampling frequency\n",
    "fc = 1./20.  # Cut-off frequency of a 20 s low-pass filter\n",
    "w = fc / (fs / 2) # Normalize the frequency\n",
    "butter_ord = 5\n",
    "bf, af = signal.butter(butter_ord, w, 'low')"
   ]
  },
  {
   "cell_type": "markdown",
   "metadata": {},
   "source": [
    "Function to perform the MVA on an array of 3D vectors. To do the analysis in a plane (e.g. perpendicular to the local average magnetic field), the normal to that plane cdir (3D vector) should be specified. "
   ]
  },
  {
   "cell_type": "code",
   "execution_count": null,
   "metadata": {},
   "outputs": [],
   "source": [
    "def mva(v, cdir = None):\n",
    "    # returns results of MVA on the array of 3D vector v. If cdir (3D vector) \n",
    "    # is provided, the analysis is performed in the plane perpendiculat to it\n",
    "    v_cov = np.cov(v, rowvar=False, bias=True)\n",
    "    if cdir is not None:\n",
    "        ccol = cdir.reshape(3,1)\n",
    "        cunit = ccol / np.linalg.norm(ccol)\n",
    "        d_mat = (np.identity(3) - np.dot(cunit,cunit.T))\n",
    "        v_cov = np.matmul(np.matmul(d_mat, v_cov), d_mat)\n",
    "    return np.linalg.eigh(v_cov)"
   ]
  },
  {
   "cell_type": "markdown",
   "metadata": {},
   "source": [
    "<a id='input'></a>\n",
    "## Input parameters"
   ]
  },
  {
   "cell_type": "markdown",
   "metadata": {},
   "source": [
    "Sets the time interval for analysis and the satellite pair, typically Swarm A and C. The magnetic field model(s) used to derive the magnetic field perturbation (shown in the standard plots) is also specified."
   ]
  },
  {
   "cell_type": "code",
   "execution_count": null,
   "metadata": {},
   "outputs": [],
   "source": [
    "# Time range, satellites, and magnetic model\n",
    "dtime_beg = '2014-05-04T04:00:00'\n",
    "dtime_end = '2014-05-04T04:00:00'\n",
    "\n",
    "sats = ['A', 'C']\n",
    "Bmodel=\"CHAOS-all='CHAOS-Core'+'CHAOS-Static'+'CHAOS-MMA-Primary'+'CHAOS-MMA-Secondary'\""
   ]
  },
  {
   "cell_type": "markdown",
   "metadata": {},
   "source": [
    "## Data retrieval and preparation"
   ]
  },
  {
   "cell_type": "markdown",
   "metadata": {},
   "source": [
    "Uses viresclient to retrieve Swarm Level 1b data as well as the (auxiliary parameter) quasi-dipole latitude.  In order to work with smaller arrays, only orbital sections where |QDLat| is $> 45^{\\,\\circ}$ are retrieved. <br>\n",
    "For each satellite, the script downloads data corresponding to the full consecutive orbits that completely cover the original time-interval (i.e. a slightly larger interval is thus used). Spacecraft position, magnetic field, and magnetic field perturbation are stored in dat_Bnec, which is a DataFrame structure."
   ]
  },
  {
   "cell_type": "code",
   "execution_count": null,
   "metadata": {},
   "outputs": [],
   "source": [
    "%%time\n",
    "request = SwarmRequest()\n",
    "nsc = len(sats)\n",
    "orbs = np.full((nsc,2),np.nan)\n",
    "dat_Bnec = []\n",
    "tlarges = []\n",
    "for sc in range(nsc):\n",
    "    orb1 = request.get_orbit_number(sats[sc], dtime_beg, mission='Swarm')\n",
    "    orb2 = request.get_orbit_number(sats[sc], dtime_end, mission='Swarm')\n",
    "    print(orb1, orb2, orb2 - orb1)\n",
    "    orbs[sc, :] = [orb1, orb2]              \n",
    "    large_beg, large_end = request.get_times_for_orbits(orb1, orb2, mission='Swarm', spacecraft=sats[sc])\n",
    "    tlarges.append([large_beg, large_end])\n",
    "    dti = pd.date_range(start = large_beg, end = large_end, freq='s', closed='left')\n",
    "    # get B NEC data for Northern hemisphere\n",
    "    request.set_collection(\"SW_OPER_MAG\"+sats[sc]+\"_LR_1B\")    \n",
    "    request.set_products(measurements=[\"B_NEC\"], \n",
    "                         auxiliaries=['QDLat','QDLon','MLT'],\n",
    "                         models=[Bmodel],\n",
    "                         sampling_step=\"PT1S\")\n",
    "    request.set_range_filter('QDLat', 45, 90)\n",
    "    data = request.get_between(start_time = large_beg, \n",
    "                               end_time = large_end,\n",
    "                               asynchronous=True)  \n",
    "    print('Used MAG L1B file: ', data.sources[1])\n",
    "    datN_Bnec = data.as_dataframe()\n",
    "    request.clear_range_filter()   \n",
    "    # get B NEC data for Southern hemisphere\n",
    "    request.set_range_filter('QDLat', -90, -45)\n",
    "    data = request.get_between(start_time = large_beg, \n",
    "                               end_time = large_end,\n",
    "                               asynchronous=True)   \n",
    "    print('Used MAG L1B file: ', data.sources[1])\n",
    "    datS_Bnec= data.as_dataframe()    \n",
    "    request.clear_range_filter()\n",
    "    # put toghether data from both hemispheres\n",
    "    dat = pd.concat([datN_Bnec, datS_Bnec]).sort_index()  \n",
    "    dat['dB_NEC'] = dat['B_NEC'].values - dat['B_NEC_CHAOS-all'].values\n",
    "    # append data from different satellites\n",
    "    dat_Bnec.append(dat)    "
   ]
  },
  {
   "cell_type": "markdown",
   "metadata": {},
   "source": [
    "## Splitting the data in quarter orbit sections"
   ]
  },
  {
   "cell_type": "markdown",
   "metadata": {},
   "source": [
    "For each satellite, data is first split in half-orbit sections, corresponding to the Northern or Southern hemisphere. In the next stage, the half-orbit intervals are further split in quarter-orbits, using as separator the time instant when *QDLat* acquires its extreme value. *qorbs_Bnec* is a list of DataFrame structures, each covering one quarter-orbit interval."
   ]
  },
  {
   "cell_type": "code",
   "execution_count": null,
   "metadata": {},
   "outputs": [],
   "source": [
    "qorbs_Bnec = [[],[]]\n",
    "for sc in range(nsc):\n",
    "    # nr. of 1/2 orbits and 1/2 orbit duration \n",
    "    nrho = int((orbs[sc,1] - orbs[sc,0] + 1)*2)    \n",
    "    dtho = (tlarges[sc][1] - tlarges[sc][0])/nrho  \n",
    "    # start and stop of 1/2 orbits\n",
    "    begend_hor = [tlarges[sc][0] + ii*dtho for ii in range(nrho +1)]\n",
    "    # split DataFrame in 1/2 orbit sections; get time of maximum QDLat for each\n",
    "    horbs = split_into_sections(dat_Bnec[sc], begend_hor)\n",
    "    times_maxQDLat = [horbs[ii]['QDLat'].abs().idxmax().to_pydatetime() \\\n",
    "                    for ii in range(nrho)]\n",
    "    begend_qor = sorted(times_maxQDLat + begend_hor)\n",
    "    # split DataFrame in 1/4 orbit sections;\n",
    "    qorbs_Bnec[sc] = split_into_sections(dat_Bnec[sc], begend_qor)\n",
    "\n",
    "nrq = len(qorbs_Bnec[0]) # total nr. of 1/4 orbits"
   ]
  },
  {
   "cell_type": "markdown",
   "metadata": {},
   "source": [
    "## FAC density and magnetic perturbation in GEO frame"
   ]
  },
  {
   "cell_type": "markdown",
   "metadata": {},
   "source": [
    "For each quarter-orbit, transforms the magnetic field in GEO frame and computes the FAC density by applying the single-satellite method on the filtered magnetic data. *qorbs_dB* and *qorbs_fac* are list of DataFrame structures containing the corresponding data"
   ]
  },
  {
   "cell_type": "code",
   "execution_count": null,
   "metadata": {},
   "outputs": [],
   "source": [
    "qorbs_dB = [[],[]]\n",
    "qorbs_fac = [[],[]]\n",
    "jthr = 0.05  # threshold value for the FAC intensity\n",
    "for sc in range(nsc):\n",
    "    for jj in range(nrq):\n",
    "        # store position, magnetic field and magnetic model vectors as data array\n",
    "        Rsph = qorbs_Bnec[sc][jj][['Latitude','Longitude','Radius']].values\n",
    "        Bnec = np.stack(qorbs_Bnec[sc][jj]['B_NEC'].values, axis=0)\n",
    "        Bmod = np.stack(qorbs_Bnec[sc][jj]['B_NEC_CHAOS-all'].values, axis=0)  \n",
    "        dBnec = np.stack(qorbs_Bnec[sc][jj]['dB_NEC'].values, axis=0)\n",
    "        ti = qorbs_Bnec[sc][jj].index\n",
    "        R, B, dB = R_B_dB_in_GEOC(Rsph, Bnec, dBnec)\n",
    "        dB_flt = signal.filtfilt(bf, af, dB, axis=0)\n",
    "        colBdB = pd.MultiIndex.from_product([['Rgeo','Bgeo','dBgeo','dBgeo_flt','dBnec'],\\\n",
    "                                    ['x','y','z']], names=['Var','Com'])\n",
    "        qorbs_dB[sc].append(pd.DataFrame(np.concatenate((R.reshape(-1,3), B.reshape(-1,3), \\\n",
    "                        dB.reshape(-1,3), dB_flt.reshape(-1,3),\\\n",
    "                        dBnec.reshape(-1,3)),axis=1), columns=colBdB,index=ti))      \n",
    "        tt, Rmid, jb_flt,_,_,_,_,_ = singleJfac(ti, R, B, dB_flt)\n",
    "        QDlat_ti = qorbs_Bnec[sc][jj]['QDLat'].values\n",
    "        tt64 = tt.astype(\"int64\")\n",
    "        ti64 = ti.asi8\n",
    "        QDLat_tt = np.interp(tt64, ti64, QDlat_ti)\n",
    "        jb_flt_sup = np.where(np.abs(jb_flt) >= jthr, jb_flt, 0)\n",
    "        qorbs_fac[sc].append(pd.DataFrame(np.concatenate((QDLat_tt[:,np.newaxis], \\\n",
    "                        jb_flt[:,np.newaxis], jb_flt_sup[:,np.newaxis]),axis = 1),\\\n",
    "                         columns=['QDLat','FAC_flt','FAC_flt_sup'], index=tt))\n",
    "        "
   ]
  },
  {
   "cell_type": "markdown",
   "metadata": {},
   "source": [
    "## Estimation of AO margins"
   ]
  },
  {
   "cell_type": "markdown",
   "metadata": {},
   "source": [
    "For each quarter-orbit section, *find_ao_margins* is called to automatically estimate the margins of the auroral oval. For that purpose:\n",
    "- the FAC data based on (low-pass Butterworth) filtered magnetic field perturbation are considered\n",
    "- the cumulative sum (integral) of unsigned FAC density is computed. The integration is performed as function of QDLat (not time), to correct for the non-linear changes in QDLat at the highest latitude.\n",
    "- since in the process of current integration, small FAC densities could badly affect the good identification of auroral oval, only current densities above a certain value, specified by the *jthr* parameter, is considered\n",
    "- the first, i.e. Q1, and the third, i.e. Q3, quartiles are computed. and the AO margins are estimated as Q1 - (O3-Q1) and Q3 + (O3-Q1)"
   ]
  },
  {
   "cell_type": "code",
   "execution_count": null,
   "metadata": {},
   "outputs": [],
   "source": [
    "tbeg_ao, tcen_ao, tend_ao, tbeg_mva, tend_mva = \\\n",
    "            (np.full((nsc,nrq),pd.NaT) for i in range(5))\n",
    "for sc in range(nsc):\n",
    "    for jj in range(nrq):\n",
    "        tbeg_ao[sc][jj], tcen_ao[sc][jj], tend_ao[sc][jj] = \\\n",
    "            find_ao_margins(qorbs_fac[sc][jj])[0:3] \n",
    "        tbeg_mva[sc][jj] = tbeg_ao[sc][jj].ceil(freq = 's')\n",
    "        tend_mva[sc][jj] = tend_ao[sc][jj].floor(freq = 's')        "
   ]
  },
  {
   "cell_type": "markdown",
   "metadata": {},
   "source": [
    "## MVA analysis"
   ]
  },
  {
   "cell_type": "markdown",
   "metadata": {},
   "source": [
    "For each quarter-orbit section, MVA in performed on the AO interval in the plane perpendicular to the average magnetic field direction. The current sheet normal is provided by the eigenvector associated with the minimum magnetic variance, while the sense of direction is chosen according to the sat. velocity"
   ]
  },
  {
   "cell_type": "code",
   "execution_count": null,
   "metadata": {},
   "outputs": [],
   "source": [
    "qorbs_mva = [[],[]]\n",
    "lbd_min, lbd_max, ang_vn = (np.full((nsc,nrq),np.nan) for i in range(3))\n",
    "dir_bunit, dir_min, dir_max= (np.full((nsc,nrq,3),np.nan) for i in range(3))\n",
    "for sc in range(nsc):\n",
    "    for jj in range(nrq):\n",
    "        ti_un = qorbs_dB[sc][jj].index.values\n",
    "        dB_un = qorbs_dB[sc][jj]['dBgeo'].values\n",
    "        B_un = qorbs_dB[sc][jj]['Bgeo'].values\n",
    "        R_un = qorbs_dB[sc][jj]['Rgeo'].values\n",
    "        # eV2d is the satellite velocity in the tangent plane \n",
    "        # (i.e. perpendicular to position vector)\n",
    "        V3d = R_un[1:,:] - R_un[:-1,:] \n",
    "        Rmid = 0.5*(R_un[1:,:] + R_un[:-1,:])\n",
    "        eV3d, eRmid = normvec(V3d), normvec(Rmid)\n",
    "        eV2d = normvec(np.cross(eRmid, np.cross(eV3d, eRmid)))\n",
    "        # select quantities for MVA interval and remove NaN points\n",
    "        indok = np.where((ti_un >= tbeg_mva[sc][jj]) & \\\n",
    "                         (ti_un <= tend_mva[sc][jj]) & \\\n",
    "                         ~np.isnan(dB_un[:,0]))[0]\n",
    "        dB_int, B_int = dB_un[indok,:], B_un[indok,:]\n",
    "        B_ave = np.average(B_int, axis = 0)\n",
    "        B_unit = B_ave / np.linalg.norm(B_ave)\n",
    "        # apply constrained MVA\n",
    "        eigval,eigvec = mva(dB_int, cdir=B_unit)\n",
    "        # select the minvar orientation according to sat. velocity\n",
    "        eV3d_ave = np.average(eV3d[indok[:-1]], axis = 0)  \n",
    "        mindir = eigvec[:,1] \n",
    "        if np.sum(mindir*eV3d_ave) < 0:\n",
    "            mindir = -eigvec[:,1]\n",
    "        maxdir = np.cross(B_unit, mindir)\n",
    "        lbd_min[sc, jj], lbd_max[sc, jj] = eigval[1], eigval[2]\n",
    "        dir_bunit[sc,jj,:] = B_unit\n",
    "        dir_min[sc,jj,:] = mindir\n",
    "        dir_max[sc,jj,:] = maxdir\n",
    "     \n",
    "        # compute the FAC inclination wrt sat. velocity in the tangential plane\n",
    "        eN2d, ang = eV2d.copy(), np.zeros(len(ti_un))\n",
    "        eN2d[indok[:-1]] = \\\n",
    "            normvec(np.cross(eRmid[indok[:-1]], np.cross(mindir, eRmid[indok[:-1]])))\n",
    "\n",
    "        cross_v_n = np.cross(eV2d[indok[:-1]], eN2d[indok[:-1]])\n",
    "        sign_ang = np.sign(np.sum(eRmid[indok[:-1]]*cross_v_n, axis=-1))\n",
    "        ang[indok[:-1]]  = \\\n",
    "            np.degrees(np.arcsin(sign_ang*np.linalg.norm(cross_v_n, axis=-1)))\n",
    "        ang[0:indok[0]] = ang[indok[0]]\n",
    "        ang[indok[-1]:] = ang[indok[-2]]\n",
    "        ang_vn[sc][jj] = np.round(np.mean(ang[indok[:-1]]), 1)\n",
    "                \n",
    "        # transform magnetic perturbation in MVA frame\n",
    "        geo2mva = np.stack((B_unit, mindir, maxdir), axis=1)\n",
    "        dB_mva = np.matmul(qorbs_dB[sc][jj]['dBgeo'].values, geo2mva)\n",
    "        qorbs_mva[sc].append(\\\n",
    "            pd.DataFrame(np.concatenate((dB_mva, ang[:,np.newaxis]),axis = 1),\\\n",
    "            columns=(['dB_B', 'dB_min', 'dB_max', 'ang_v_n']), index=ti_un))\n",
    "        \n",
    "        print('sw'+sats[sc]+' MVA interval: ', \\\n",
    "                  tbeg_mva[sc][jj], '  ', tend_mva[sc][jj])\n",
    "        print('B_unit= %10.2f'%eigval[0], np.round(B_unit, decimals=4))\n",
    "        print('mindir= %10.2f'%eigval[1], np.round(mindir, decimals=4))\n",
    "        print('maxdir= %10.2f'%eigval[2], np.round(maxdir, decimals=4))  \n",
    "        print('')"
   ]
  },
  {
   "cell_type": "markdown",
   "metadata": {
    "tags": []
   },
   "source": [
    "## Correlation analysis"
   ]
  },
  {
   "cell_type": "markdown",
   "metadata": {
    "tags": []
   },
   "source": [
    "For each quarter-orbit section, the correlation of magnetic perturbations (correlation coefficient at optimum time lag) is computed. For that purpose:\n",
    "- for each satellite, the magnetic field perturbations along the maximum variance direction is used\n",
    "- satellite with narrower MVA interval is taken as reference. The running mean square deviation between magnetic perturbations within the reference interval and intervals from the second satellite up to 30 sec. ahead or below is computed\n",
    "- the correlation coefficient at optimum time lag (time lag that minimizes the mean square deviation) is computed"
   ]
  },
  {
   "cell_type": "code",
   "execution_count": null,
   "metadata": {},
   "outputs": [],
   "source": [
    "dt_mva = tend_mva - tbeg_mva\n",
    "qorbs_ref_cc = []\n",
    "opt_lag_ls, iref_arr = (np.full(nrq,np.nan, dtype='int') for i in range(2))\n",
    "cc_ls = np.full(nrq,np.nan)\n",
    "for jj in range(nrq):\n",
    "    # set the reference s/c (i.e. the one with smaller MVA interval)\n",
    "    iref = np.argmin(dt_mva[:,jj])\n",
    "    isec = (iref +1) % 2\n",
    "    iref_arr[jj] = iref\n",
    "    sc_ref = sats[iref]\n",
    "    sc_sec = sats[isec]\n",
    "    \n",
    "    # quarter orbit time and data for the second and reference s/c\n",
    "    tsec = qorbs_mva[isec][jj].index\n",
    "    dBsec = qorbs_mva[isec][jj]['dB_max'].values\n",
    "\n",
    "    tref = qorbs_mva[iref][jj].index\n",
    "    dBref = qorbs_mva[iref][jj]['dB_max'].values\n",
    "\n",
    "    # index and data of MVA interval for reference s/c\n",
    "    imva = np.where((tref >= tbeg_mva[iref][jj]) & \\\n",
    "                    (tref <= tend_mva[iref][jj]))    \n",
    "    dBref_mva = qorbs_mva[iref][jj]['dB_max'].values[imva]\n",
    "\n",
    "    # set reference moment & index (here start of MVA inf for ref. s/c)\n",
    "    ref_mom = tbeg_mva[iref][jj]\n",
    "    ind_beg_tsec = np.where((tsec == ref_mom))[0][0]\n",
    "\n",
    "    # nr. of points in MVA int\n",
    "    nmva = int(dt_mva[iref,jj].total_seconds() + 1)\n",
    "\n",
    "    # choose time-lags between -/+ 30 sec but takes care whether this is possible\n",
    "    imin = int(np.max([-30, (np.min(tsec) - tbeg_mva[iref,jj]).total_seconds()]))\n",
    "    imax = int(np.min([30, (np.max(tsec) - tend_mva[iref,jj]).total_seconds()]))\n",
    "    nlags = int(imax - imin +1)  # nr. of time lags\n",
    "\n",
    "    ls_run = np.full((nlags), np.nan) \n",
    "    for ii in range(imin, imax+1):\n",
    "        dBsec_run = dBsec[ind_beg_tsec+ii: ind_beg_tsec+ii+nmva]\n",
    "        ls_run[ii-imin] = np.linalg.norm(dBsec_run - dBref_mva)/len(dBref_mva)\n",
    "\n",
    "    best_ind_ls = np.argmin(ls_run)\n",
    "    opt_lag_ls[jj] = best_ind_ls + imin   \n",
    "\n",
    "    dBsec_opt = dBsec[ind_beg_tsec+opt_lag_ls[jj] : ind_beg_tsec+opt_lag_ls[jj] + nmva]\n",
    "    cc_ls[jj] = np.corrcoef(dBsec_opt, dBref_mva)[0,1] \n",
    "\n",
    "    qorbs_ref_cc.append(pd.DataFrame(dBref_mva,index=\\\n",
    "        tsec[ind_beg_tsec+best_ind_ls+imin:ind_beg_tsec+best_ind_ls+imin + nmva]))"
   ]
  },
  {
   "cell_type": "markdown",
   "metadata": {
    "tags": []
   },
   "source": [
    "## Saving the results"
   ]
  },
  {
   "cell_type": "markdown",
   "metadata": {
    "tags": []
   },
   "source": [
    "The results from MVA and correlation analysis, detailed for each quarter-orbit section, are saved locally in an ASCII file."
   ]
  },
  {
   "cell_type": "code",
   "execution_count": null,
   "metadata": {},
   "outputs": [],
   "source": [
    "tlarge_beg = min([tlarges[0][0],tlarges[1][0]])\n",
    "tlarge_end = max([tlarges[0][1],tlarges[1][1]])\n",
    "str_fname = tlarge_beg.strftime(\"%Y%m%d_%H%M%S\") +\\\n",
    "           '_' + tlarge_end.strftime(\"%Y%m%d_%H%M%S\")\n",
    "\n",
    "fname_out = 'QI_sw'+sats[0] + sats[1]+'_'+ str_fname +'.dat'\n",
    "\n",
    "with open(fname_out, 'w') as file:\n",
    "    file.write('Quality indices for satellites:  sw'+sats[0]+', sw'+sats[1]+'\\n')\n",
    "    file.write('Time interval: '+ tlarge_beg.strftime(\"%Y%m%d_%H%M%S\") +\\\n",
    "               '  ' + tlarge_end.strftime(\"%Y%m%d_%H%M%S\")+ '\\n\\n')\n",
    "               \n",
    "for jj in range(nrq):\n",
    "    %run -i \"save_qi.py\"\n",
    "    \n",
    "file.close()"
   ]
  },
  {
   "cell_type": "markdown",
   "metadata": {},
   "source": [
    "## Plotting the results"
   ]
  },
  {
   "cell_type": "markdown",
   "metadata": {},
   "source": [
    "Generates one plot for every 1/4 orbit. The first four panels show, for both satellites, the magnetic field perturbation in NEC and MVA frames. To illustrate the correlation between magnetic perturbations recorded by the two sensors, the fifth panel presents the evolution of maximum variance components, properly lagged in case of the reference satellite. The sixth panel shows the FAC densities obtained from filtered magnetic data, while the last panel presents the current sheet inclination wrt satellite velocity in the tangential plane. <br>\n",
    "At the end, all the plots are collected in a multi-page pdf file."
   ]
  },
  {
   "cell_type": "code",
   "execution_count": null,
   "metadata": {},
   "outputs": [],
   "source": [
    "fname_plots = 'QI_sw'+sats[0]+sats[1]+'_multipage_'+str_fname + '.pdf'\n",
    "list_plots = []\n",
    "for jj in range(nrq):\n",
    "    %run -i \"plot_qi.py\"\n",
    "    list_plots.append(fname_fig)\n",
    "    \n",
    "list_plots_str = ' '.join(list_plots)\n",
    "!gs -dNOPAUSE -sDEVICE=pdfwrite -sOUTPUTFILE={fname_plots} -dBATCH {list_plots_str}"
   ]
  }
 ],
 "metadata": {
  "anaconda-cloud": {},
  "language_info": {
   "codemirror_mode": {
    "name": "ipython",
    "version": 3
   },
   "file_extension": ".py",
   "mimetype": "text/x-python",
   "name": "python",
   "nbconvert_exporter": "python",
   "pygments_lexer": "ipython3"
  }
 },
 "nbformat": 4,
 "nbformat_minor": 4
}
