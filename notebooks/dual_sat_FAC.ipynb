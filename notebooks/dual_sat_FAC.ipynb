{
 "cells": [
  {
   "cell_type": "markdown",
   "metadata": {},
   "source": [
    "# Dual-sat FAC density estimation with Swarm\n",
    "Adrian Blagau (Institute for Space Sciences, Bucharest) <br>\n",
    "Joachim Vogt (Jacobs University Bremen) <br>\n",
    "Version June 2021"
   ]
  },
  {
   "cell_type": "markdown",
   "metadata": {},
   "source": [
    "This notebook accompanies the article [\"Multipoint Field-Aligned Current Estimates With Swarm\"](https://doi.org/10.1029/2018JA026439) by A. Blagau, and J. Vogt, 2019. When used for publications, please acknowledge the authors' work by citing the paper."
   ]
  },
  {
   "cell_type": "markdown",
   "metadata": {},
   "source": [
    "**Introduction** The notebook makes use of the dual-s/c gradient estimation method, developed in [Vogt et al., 2013](https://angeo.copernicus.org/articles/31/1913/2013/), to estimates the field-aligned current (FAC) density based on the lower satellite (Swarm A and C) data or, when Swarm forms a close configuration, by combining data from the upper satellite (Swarm B) and one of the lower satellites. \n",
    "\n",
    "Four point planar configurations (quads) are formed by combining virtual satellite positions, separated along the orbit, and the the Ampère's law, in the least-square (LS) formulation, is used to infer the current flowing through the quad. Then, the FAC density is estimated by considering the orientation of local magnetic field wrt quad normal. The LS approach has several advantages over the ESA L2 algorithm since it provides stabler solutions, can be applied on a more general spacecraft configuration, and offers a robust error estimation scheme. Consequently, the method provides significantly more data near the singularity where the satellites' orbits intersect, allows FAC estimation with configurations that involves the upper Swarm satellite, or to fine tune the constellation geometry to the problem at hand. A detailed discussion on applying the LS dual-s/c method in the context of Swarm is provided in [Blagau and Vogt, 2019](https://doi.org/10.1029/2018JA026439).\n",
    "\n",
    "In the <a href=\"#input\" style=\"color:green\">Input parameters</a> section, the user specifies the interval and the satellites used in the analysis, as well as the parameters that specify the quad configuration, i,e, the along track separation and the time shift needed to align the sensors. When the lower satellites are used, the later can actually be calculated from the orbital elements."
   ]
  },
  {
   "cell_type": "markdown",
   "metadata": {},
   "source": [
    "Importing useful libraries (numpy, pandas, matplotlib, ...)"
   ]
  },
  {
   "cell_type": "code",
   "execution_count": null,
   "metadata": {},
   "outputs": [],
   "source": [
    "import numpy as np\n",
    "import pandas as pd\n",
    "from scipy import signal\n",
    "import matplotlib.pyplot as plt\n",
    "import datetime as dtm\n",
    "import matplotlib.dates as mdt\n",
    "import warnings\n",
    "warnings.filterwarnings('ignore')\n",
    "%matplotlib inline"
   ]
  },
  {
   "cell_type": "markdown",
   "metadata": {},
   "source": [
    "Preparing to access ESA’s Swarm mission data and models from VirES environment"
   ]
  },
  {
   "cell_type": "code",
   "execution_count": null,
   "metadata": {},
   "outputs": [],
   "source": [
    "from viresclient import set_token\n",
    "from viresclient import SwarmRequest\n",
    "request = SwarmRequest()"
   ]
  },
  {
   "cell_type": "markdown",
   "metadata": {},
   "source": [
    "### Defining some convenience functions "
   ]
  },
  {
   "cell_type": "markdown",
   "metadata": {},
   "source": [
    "Computing the parameters of a low-pass Butterworth filter, if one decides to filter the data"
   ]
  },
  {
   "cell_type": "code",
   "execution_count": null,
   "metadata": {},
   "outputs": [],
   "source": [
    "fs = 1  # Sampling frequency\n",
    "fc = 1./20.  # Cut-off frequency of a 20 s low-pass filter\n",
    "w = fc / (fs / 2) # Normalize the frequency\n",
    "butter_ord = 5\n",
    "bf, af = signal.butter(butter_ord, w, 'low')"
   ]
  },
  {
   "cell_type": "markdown",
   "metadata": {},
   "source": [
    "Defining the *recivec2s* function, to compute the reciprocal vectors of a 4 point planar configuration. See [Vogt et al., 2013](https://angeo.copernicus.org/articles/31/1913/2013/) for details."
   ]
  },
  {
   "cell_type": "code",
   "execution_count": null,
   "metadata": {},
   "outputs": [],
   "source": [
    "def recivec2s(R4s):\n",
    "    # work in the mesocenter frame\n",
    "    Rmeso = np.mean(R4s, axis=-2)\n",
    "    R4smc = R4s - Rmeso[:, np.newaxis, :]\n",
    "    Rtens = np.sum(np.matmul(R4smc[:,:,:,None],R4smc[:,:,None, :]), axis = -3)\n",
    "    eigval, eigvec = np.linalg.eigh(Rtens)\n",
    "    # avoid eigenvectors flipping direction\n",
    "    # for that, impose N to be closer to radial direction\n",
    "    nprov = np.squeeze(eigvec[:,:,0])    # provisional normal\n",
    "    cosRN = np.squeeze(np.matmul(Rmeso[...,None,:],nprov[...,:,None]))\n",
    "    iposr = cosRN < 0\n",
    "    eigvec[iposr,:,:] = -eigvec[iposr,:,:]\n",
    "    # minimum variance direction is along normal N\n",
    "    nuvec = np.squeeze(eigvec[:,:,0])\n",
    "    intvec = np.squeeze(eigvec[:,:,1])\n",
    "    maxvec = np.squeeze(eigvec[:,:,2])\n",
    "    # nonplanarity and condition number\n",
    "    nonplan = eigval[:,0]/eigval[:,2]\n",
    "    condnum = eigval[:,2]/eigval[:,1]\n",
    "    qtens = 1./eigval[:,2,np.newaxis,np.newaxis]*np.matmul(maxvec[:,:,None],maxvec[:,None, :]) +\\\n",
    "        1./eigval[:,1,np.newaxis,np.newaxis]*np.matmul(intvec[:,:,None],intvec[:,None, :])\n",
    "    # Q4s are the planar canonical base vectors\n",
    "    Q4s = np.squeeze(np.matmul(qtens[:,None, :,:],R4smc[:,:,:,None]))\n",
    "    # trace of the position and reciprocal tensor \n",
    "    tracer = np.sum(np.square(np.linalg.norm(R4smc, axis = -1)), axis=-1)   \n",
    "    traceq = np.sum(np.square(np.linalg.norm(Q4s, axis = -1)), axis=-1)\n",
    "\n",
    "    return Q4s, Rmeso, nuvec, condnum, nonplan, tracer, traceq"
   ]
  },
  {
   "cell_type": "markdown",
   "metadata": {},
   "source": [
    "<a id='input'></a>\n",
    "### Input parameters\n",
    "Specifying the time interval and the pair of satellites used in the analysis. To construct the quad configuration, one have to specify the time shift (*tshift*) needed to align the sensors, and the along-track separation (*dt_along*) between the quad's corners. The time-shift can be explicitly set here or, when *tshift* is not defined, it's optimal value is calculated from the orbital elements (works mainly for configurations based on the lower satellites)."
   ]
  },
  {
   "cell_type": "code",
   "execution_count": null,
   "metadata": {},
   "outputs": [],
   "source": [
    "dtime_beg = '2014-05-04T16:04:00'\n",
    "dtime_end = '2014-05-04T16:11:00'\n",
    "\n",
    "sats = ['A','C']\n",
    "\n",
    "dt_along = 5        # along track separation\n",
    "# tshift = [0, 13]   # optional time-shift between sensors. \n",
    "                    # When not defined, it is estimated below \n",
    "\n",
    "# sats = ['B','C']\n",
    "# tshift = [0, 3]\n",
    "# sats = ['B','A']\n",
    "# tshift = [0, 13]"
   ]
  },
  {
   "cell_type": "markdown",
   "metadata": {},
   "source": [
    "To reduce the influence of local magnetic fluctuations, filtered data should be used. *Bmodel* designates the magnetic model used to calculate magnetic field perturbations. *db* represents the amplitude, in nT, of effective magnetic noise (instrumental error). *angTHR* is the threshold minimum value needed to recover the FAC density from the radial current density and *errTHR* is the accepted error level for the FAC density. "
   ]
  },
  {
   "cell_type": "code",
   "execution_count": null,
   "metadata": {},
   "outputs": [],
   "source": [
    "use_filter = True   # 'True' (for filtering the data) or 'False'\n",
    "Bmodel=\"CHAOS-all='CHAOS-Core'+'CHAOS-Static'+'CHAOS-MMA-Primary'+'CHAOS-MMA-Secondary'\"\n",
    "db = 0.2 if use_filter else 0.5\n",
    "angTHR = 30.\n",
    "errTHR = 0.1 "
   ]
  },
  {
   "cell_type": "markdown",
   "metadata": {},
   "source": [
    "### Data retrieval ###\n",
    "Reading from VirES the sat. position (*Rsph*), magnetic L1b low resolution data (*Bsw*), and magnetic field model (*Bmod*). The auxiliary data, i.e. quasi-dipole latitude and longitude, magnetic local time, and longitude of the ascending node, are also retrieved."
   ]
  },
  {
   "cell_type": "code",
   "execution_count": null,
   "metadata": {},
   "outputs": [],
   "source": [
    "dti = pd.date_range(start = pd.Timestamp(dtime_beg).ceil('s'),\\\n",
    "                    end = pd.Timestamp(dtime_end).floor('s'), freq='s')\n",
    "ndti = len(dti)\n",
    "nsc = len(sats)\n",
    "datagaps={}\n",
    "Rsph, Bsw, Bmod = (np.full((ndti,nsc,3),np.nan) for i in range(3))\n",
    "Aux = np.full((ndti,nsc,4),np.nan)\n",
    "\n",
    "for sc in range(nsc):\n",
    "    request.set_collection(\"SW_OPER_MAG\"+sats[sc]+\"_LR_1B\")\n",
    "    request.set_products(measurements=[\"B_NEC\"], \n",
    "                         auxiliaries=['QDLat','QDLon','MLT','AscendingNodeLongitude'],\n",
    "                         models=[Bmodel],\n",
    "                         sampling_step=\"PT1S\")\n",
    "    data = request.get_between(start_time = dti[0].to_pydatetime(), \\\n",
    "                end_time = dti[-1].to_pydatetime()+dtm.timedelta(seconds=0.1), \\\n",
    "                asynchronous=False)   \n",
    "    print('Used MAG L1B file: ', data.sources[2])\n",
    "    dat = data.as_dataframe()\n",
    "    # interpolate at dti moments if B_NEC has data gaps, marked as zero \n",
    "    # magnitude in L1b LR files. Stores position, magnetic field and \n",
    "    # magnetic model vectors in corresponding data matrices\n",
    "    ind_nogaps = np.where(\\\n",
    "        np.linalg.norm(np.stack(dat['B_NEC'].values), axis = 1)>0)[0]\n",
    "    if len(ind_nogaps) != ndti:\n",
    "        print('NR. OF MISSING DATA POINTS: ', ndti - len(ind_nogaps))    \n",
    "        for jj in range(3):\n",
    "            Rsph[:,sc,jj] = np.interp(dti,dat.index[ind_nogaps],\\\n",
    "                                dat[['Latitude','Longitude','Radius']].values[ind_nogaps,jj])\n",
    "            Bmod[:,sc,jj] = np.interp(dti,dat.index[ind_nogaps],\\\n",
    "                                np.stack(dat['B_NEC_CHAOS-all'].values, axis=0)[ind_nogaps,jj])  \n",
    "            Aux[:,sc,jj] = np.interp(dti,dat.index[ind_nogaps],\\\n",
    "                                dat[['QDLat','QDLon','MLT']].values[ind_nogaps,jj])     \n",
    "            Bsw[:,sc,jj] = np.interp(dti,dat.index[ind_nogaps],\\\n",
    "                                np.stack(dat['B_NEC'].values, axis=0)[ind_nogaps,jj]) \n",
    "        Aux[:,sc, 3] = np.interp(dti,dat.index[ind_nogaps],\\\n",
    "                                dat[['AscendingNodeLongitude']].values[ind_nogaps,jj])    \n",
    "    else:\n",
    "        Rsph[:,sc,:] = dat[['Latitude','Longitude','Radius']].values\n",
    "        Bmod[:,sc,:] = np.stack(dat['B_NEC_CHAOS-all'].values, axis=0)\n",
    "        Aux[:,sc,:] = dat[['QDLat','QDLon','MLT','AscendingNodeLongitude']].values\n",
    "        Bsw[:,sc,:] = np.stack(dat['B_NEC'].values, axis=0)\n",
    "\n",
    "# stores data in DataFrames\n",
    "colRsph = pd.MultiIndex.from_product([['Rsph'],sats,['Lat','Lon','Radius']], \n",
    "                                   names=['Var','Sat','Com'])\n",
    "dfRsph = pd.DataFrame(Rsph.reshape(-1,nsc*3),columns=colRsph,index=dti)\n",
    "\n",
    "colBswBmod = pd.MultiIndex.from_product([['Bsw','Bmod'],sats,['N','E','C']], \n",
    "                                   names=['Var','Sat','Com'])\n",
    "dfBswBmod = pd.DataFrame(np.concatenate((Bsw.reshape(-1,nsc*3), \n",
    "                                         Bmod.reshape(-1,nsc*3)),axis=1), \n",
    "                         columns=colBswBmod,index=dti)\n",
    "\n",
    "RsphBswBmod = pd.merge(dfRsph, dfBswBmod, left_index=True, right_index=True)"
   ]
  },
  {
   "cell_type": "markdown",
   "metadata": {},
   "source": [
    "### Preparation and data alignment ###"
   ]
  },
  {
   "cell_type": "markdown",
   "metadata": {},
   "source": [
    "When *tshift* parameter is not defined, computes its optimal value. To that end, one founds the time difference in satellites' ascending nodes and subsequently correct this value by taking into account the orbit inclination (i.e. 87.35 deg. for Swarm lower pair). This calculations works pretty accurate for configurations based on the lower satellites. "
   ]
  },
  {
   "cell_type": "code",
   "execution_count": null,
   "metadata": {},
   "outputs": [],
   "source": [
    "try: tshift\n",
    "except NameError:\n",
    "    AscNodeSats = []\n",
    "    for ii in range(2):\n",
    "        orb = request.get_orbit_number(sats[ii], dtime_beg, mission='Swarm')\n",
    "        AscNodeSats.append(request.get_times_for_orbits(orb, orb, spacecraft=sats[ii]))\n",
    "    AscLag = 0.5*(AscNodeSats[1][0] - AscNodeSats[0][0]).total_seconds() +\\\n",
    "              0.5*(AscNodeSats[1][1] - AscNodeSats[0][1]).total_seconds()\n",
    "    print('Asc. Node time diff.: Sat',sats[0],' lags behind Sat',sats[1],'by ',AscLag,' sec.')\n",
    "    # Compensate for the orbit inclination\n",
    "    Rorb = np.mean(Rsph[:,0,2],axis=0)\n",
    "    Torb = (AscNodeSats[0][1] - AscNodeSats[0][0]).total_seconds()\n",
    "    Vorb = 2*np.pi*Rorb/Torb     \n",
    "    Oinc = np.deg2rad(90 - 87.35)\n",
    "    dlon = np.abs((Aux[0,1,3] - Aux[0,0,3] + 180) % 360 - 180)\n",
    "    Deq = dlon*2*np.pi*Rorb/360\n",
    "    Tcorr = Deq*np.tan(Oinc)/Vorb\n",
    "    print('Time diff. due to orbit incl. :',np.round(Tcorr,4) ,' sec.')\n",
    "    tshift = [int(-np.sign(AscLag)*round(np.abs(AscLag) + Tcorr)), 0]\n",
    "    \n",
    "print('satellites: ', sats)\n",
    "print('Time shift: ', tshift)    "
   ]
  },
  {
   "cell_type": "markdown",
   "metadata": {},
   "source": [
    "Making time shift relative to the smalest element"
   ]
  },
  {
   "cell_type": "code",
   "execution_count": null,
   "metadata": {},
   "outputs": [],
   "source": [
    "indmin = tshift.index(min(tshift))\n",
    "indmax = tshift.index(max(tshift))\n",
    "tshift[indmax] = tshift[indmax] - min(tshift)\n",
    "tshift[indmin] = 0\n",
    "dtshift = tshift[indmax] \n",
    "print('indmin, indmax = ', indmin, indmax)\n",
    "print('tshift, dtshift = ', tshift, dtshift)"
   ]
  },
  {
   "cell_type": "markdown",
   "metadata": {},
   "source": [
    "Introducing time shift between sensors. Keep only relevant data. To keep compatibility with the ESA FAC L2 product, the associated time stamps are those from the sensor shifted ahead, i.e. Swarm A."
   ]
  },
  {
   "cell_type": "code",
   "execution_count": null,
   "metadata": {},
   "outputs": [],
   "source": [
    "ndt = ndti-dtshift\n",
    "dt = dti[dtshift:]\n",
    "for sc in range(nsc):\n",
    "    Rsph[0:ndt,sc,:] = Rsph[tshift[sc]:ndt + tshift[sc] ,sc,:] \n",
    "    Bmod[0:ndt,sc,:] = Bmod[tshift[sc]:ndt + tshift[sc] ,sc,:]     \n",
    "    Aux[0:ndt,sc,:] = Aux[tshift[sc]:ndt + tshift[sc] ,sc,:] \n",
    "    Bsw[0:ndt,sc,:] = Bsw[tshift[sc]:ndt + tshift[sc] ,sc,:]       \n",
    "    \n",
    "Rsph = np.delete(Rsph, np.s_[ndt:],0)    \n",
    "Bmod = np.delete(Bmod, np.s_[ndt:],0)   \n",
    "Aux = np.delete(Aux, np.s_[ndt:],0)  \n",
    "Bsw = np.delete(Bsw, np.s_[ndt:],0)   "
   ]
  },
  {
   "cell_type": "markdown",
   "metadata": {},
   "source": [
    "### Constructing the 4-point planar configuration ###"
   ]
  },
  {
   "cell_type": "markdown",
   "metadata": {},
   "source": [
    "Computing sats positions (*R*), magnetic measurements (*B*), and magnetic field perturbations (*dB*) in the global geographic (cartesian) frame. Filters the magnetic field perturbations if requested so."
   ]
  },
  {
   "cell_type": "code",
   "execution_count": null,
   "metadata": {},
   "outputs": [],
   "source": [
    "R, B, dB = (np.full((ndt,nsc,3),np.nan) for i in range(3))\n",
    "for sc in range(nsc):\n",
    "    latsc = np.deg2rad(Rsph[:,sc,0])\n",
    "    lonsc = np.deg2rad(Rsph[:,sc,1])  \n",
    "    radsc = 0.001*Rsph[:,sc,2]    \n",
    "    # prepare conversion to global cartesian frame\n",
    "    clt,slt = np.cos(latsc.flat),np.sin(latsc.flat)\n",
    "    cln,sln = np.cos(lonsc.flat),np.sin(lonsc.flat)\n",
    "    north = np.stack((-slt*cln,-slt*sln,clt),axis=-1)\n",
    "    east = np.stack((-sln,cln,np.zeros(cln.shape)),axis=-1)\n",
    "    center = np.stack((-clt*cln,-clt*sln,-slt),axis=-1)\n",
    "    # store cartesian position vectors in position data matrix R\n",
    "    R[:,sc,:] = -radsc[...,None]*center\n",
    "    # store magnetic field measurements in the same frame\n",
    "    bnecsc = Bsw[:,sc,:]\n",
    "    B[:,sc,:] = np.matmul(np.stack((north,east,center),axis=-1),\n",
    "                              bnecsc[...,None]).reshape(bnecsc.shape)\n",
    "    # store magnetic field perturbation in the same frame\n",
    "    dbnecsc = Bsw[:,sc,:] - Bmod[:,sc,:]     \n",
    "    dB[:,sc,:] = np.matmul(np.stack((north,east,center),axis=-1),\n",
    "                              dbnecsc[...,None]).reshape(dbnecsc.shape) \n",
    "    if use_filter:\n",
    "        dB[:,sc,:] = signal.filtfilt(bf, af, dB[:,sc,:], axis=0)\n",
    "# collect all data in a single DataFrame\n",
    "colRBdB = pd.MultiIndex.from_product([['R','B','dB'],sats,['x','y','z']], \n",
    "                                   names=['Var','Sat','Com'])\n",
    "RBdB = pd.DataFrame(np.concatenate((R.reshape(-1,nsc*3),B.reshape(-1,nsc*3),dB.reshape(-1,nsc*3)),axis=1),\n",
    "                      columns=colRBdB,index=dt)"
   ]
  },
  {
   "cell_type": "markdown",
   "metadata": {},
   "source": [
    "Constructing the four point configuration, with the corresponding values for R, B, and dB at each corner. Going along the quad, the points are named 0, 2, 3, 1, with 0 and 2 from the first sensor (i.e. sats[0]) and 1 and 3 from the second sensor (i.e. sats[1])"
   ]
  },
  {
   "cell_type": "code",
   "execution_count": null,
   "metadata": {},
   "outputs": [],
   "source": [
    "ndt4 = ndt-dt_along\n",
    "R4s = np.full((ndt4,4,3),np.nan)\n",
    "B4s = np.full((ndt4,4,3),np.nan) \n",
    "dB4s = np.full((ndt4,4,3),np.nan) \n",
    "\n",
    "R4s[:,0:2, :] = R[:ndt4, :, :]\n",
    "R4s[:,2:, :] = R[dt_along:, :, :]\n",
    "B4s[:,0:2, :] = B[:ndt4, :, :]\n",
    "B4s[:,2:, :] = B[dt_along:, :, :]\n",
    "dB4s[:,0:2, :] = dB[:ndt4, :, :]\n",
    "dB4s[:,2:, :] = dB[dt_along:, :, :]"
   ]
  },
  {
   "cell_type": "markdown",
   "metadata": {},
   "source": [
    "### Computing the FAC density and other parameters"
   ]
  },
  {
   "cell_type": "markdown",
   "metadata": {},
   "source": [
    "Using *recivec2s()* function to compute the planar canonical base vectors  (*Q4s*), the position at mesocenter (*Rmeso*), the quad normal (*nuvec*), the condition number (*condnum*), nonplanarity (*nonplan*) and trace of the position (*tracer*) and reciprocal (*traceq*) tensors."
   ]
  },
  {
   "cell_type": "code",
   "execution_count": null,
   "metadata": {},
   "outputs": [],
   "source": [
    "Q4s, Rmeso, nuvec, condnum, nonplan, tracer, traceq = recivec2s(R4s)"
   ]
  },
  {
   "cell_type": "markdown",
   "metadata": {},
   "source": [
    "Estimating the curl of magnetic field perturbation *curlB*. Associates its normal component *curlBn* with an electric current of density Jfac, flowing along the magnetic field line.\\\n",
    "Computes the direction of (un-subtracted) local magnetic field *Bunit* and the orientation of spacecraft plane with respect to Bunit (*cosBN* and *angBN*).\\ \n",
    "The current density along the radial (outward) direction *Jrad* is also computed. Its sign depends on the hemisphere."
   ]
  },
  {
   "cell_type": "code",
   "execution_count": null,
   "metadata": {},
   "outputs": [],
   "source": [
    "dt4 = dt[:ndt4].shift(1000.*(dt_along/2),freq='ms')\n",
    "muo = 4*np.pi*1e-7\n",
    "CurlB = np.sum( np.cross(Q4s,dB4s,axis=-1), axis=-2 )\n",
    "CurlBn = np.squeeze(np.matmul(CurlB[...,None,:],nuvec[...,:,None]))\n",
    "Bunit = B4s.mean(axis=-2)/np.linalg.norm(B4s.mean(axis=-2),axis=-1)[...,None]\n",
    "cosBN = np.squeeze(np.matmul(Bunit[...,None,:],nuvec[...,:,None]))\n",
    "angBN = np.arccos(cosBN)*180./np.pi\n",
    "# FAC density\n",
    "Jfac= (1e-6/muo)*pd.Series(CurlBn/cosBN,index=dt4)\n",
    "# Current density along the radial (outward) direction. This depends on the hemispheres\n",
    "Jrad= (1e-6/muo)*pd.Series(CurlBn,index=dt4)"
   ]
  },
  {
   "cell_type": "markdown",
   "metadata": {},
   "source": [
    "The error *errJ* in FAC density due to (mutually uncorrelated and isotropic) instrumental noise δB is evaluated by considering a flat value of *db* nT.\\\n",
    "Find (and exclude) data points / intervals when the value of the current density is not reliable estimated:\\\n",
    "\\- when the quad becomes too stretched (close to the lopes) and errJ increases,  defined as errJ grater than a threshold value set in errTHR. This affects both *Jfac* and *Jrad* \\\n",
    "\\- when the B vector is too close to the spacecraft plane, i.e. below a threshold value set in angTHR. This situation affects only *Jfac* and is not encounter when the lower satellites pair is used."
   ]
  },
  {
   "cell_type": "code",
   "execution_count": null,
   "metadata": {},
   "outputs": [],
   "source": [
    "def group_consecutive(data, stepsize=1):\n",
    "    return np.split(data, np.where(np.diff(data) != stepsize)[0]+1)"
   ]
  },
  {
   "cell_type": "code",
   "execution_count": null,
   "metadata": {},
   "outputs": [],
   "source": [
    "errJ = 1e-6*db/muo*pd.Series(np.sqrt(traceq)/np.absolute(cosBN),index=dt4)\n",
    "texcl = errJ.values > errTHR\n",
    "tang = (np.absolute(angBN) < 90 + angTHR) & (np.absolute(angBN) > 90 - angTHR)\n",
    "Jfac.values[texcl] = np.nan\n",
    "Jrad.values[texcl] = np.nan\n",
    "Jfac.values[tang] = np.nan\n",
    "\n",
    "# Computes the limits of the exclusion zone (if present)\n",
    "EZstart, EZstop = ([] for i in range(2))\n",
    "EZind = np.where(texcl)[0]\n",
    "if len(EZind):\n",
    "    grpEZind = group_consecutive(EZind)\n",
    "    for ii in range(len(grpEZind)):\n",
    "        EZstart.append(dt4[grpEZind[ii][0]] if grpEZind[ii][0] > 0 else []) \n",
    "        EZstop.append(dt4[grpEZind[ii][-1]] if grpEZind[ii][-1] < ndt4 else [])   \n",
    "\n",
    "# Computes the limits of the small angle zone (if present)\n",
    "ANGstart, ANGstop = ([] for i in range(2))\n",
    "ANGind = np.where(tang)[0]\n",
    "if len(ANGind):\n",
    "    grpANGind = group_consecutive(ANGind)\n",
    "    for ii in range(len(grpANGind)):\n",
    "        ANGstart.append(dt4[grpANGind[ii][0]] if grpANGind[ii][0] > 0 else [])\n",
    "        ANGstop.append(dt4[grpANGind[ii][-1]] if grpANGind[ii][-1] < ndt4 else []) "
   ]
  },
  {
   "cell_type": "markdown",
   "metadata": {},
   "source": [
    "Reading two-sat. FAC estimate from the ESA L2 product for a quick comparison."
   ]
  },
  {
   "cell_type": "code",
   "execution_count": null,
   "metadata": {},
   "outputs": [],
   "source": [
    "request.set_collection('SW_OPER_FAC_TMS_2F')\n",
    "request.set_products(measurements=[\"FAC\"], sampling_step=\"PT1S\")\n",
    "data = request.get_between(start_time = dtime_beg, \n",
    "                               end_time = dtime_end,\n",
    "                               asynchronous=False)  \n",
    "print('Used FAC file: ', data.sources[0])\n",
    "FAC_L2 = data.as_dataframe()\n",
    "\n",
    "plt.figure(figsize = [10,4])\n",
    "plt.plot(Jfac, label = 'LS')\n",
    "plt.plot(FAC_L2['FAC'], label = 'ESA L2')\n",
    "plt.ylabel('$J_{FAC}$\\n[$\\mu A/m^2$]')\n",
    "plt.xlabel('Time')\n",
    "plt.legend()"
   ]
  },
  {
   "cell_type": "markdown",
   "metadata": {},
   "source": [
    "### Plotting and saving the results"
   ]
  },
  {
   "cell_type": "markdown",
   "metadata": {},
   "source": [
    "The script below produces a plot, to be saved locally together with an ASCII file.\\\n",
    "The generated plot presents:\\\n",
    "\\- the NEC components of the magnetic field perturbation, *dB*, for the two satellites. A common range along y axes is used\\\n",
    "\\- the logarithm of the condition number, *CN* \\\n",
    "\\- angle between the normal to the spacecraft plane and the direction of local ambient magnetic field. \\\n",
    "\\- comparison between the FAC density estimated with the LS method and the ESA L2 FAC product obtained from the dual-s/c method. \\\n",
    "\\- the FAC estimation errors due to instrumental noise\\\n",
    "The values for tick labels refer to the trailing position of the sensor shifted ahead.\\\n",
    "On the bottom, the 4-point configuration is shown at three instances (i.e. beginning, middle, and end of the interval) projected on the NE plane of the local NEC coordinate frame tied to the mesocenter. The velocity vector of the mesocenter is also indicated. "
   ]
  },
  {
   "cell_type": "code",
   "execution_count": null,
   "metadata": {},
   "outputs": [],
   "source": [
    "%run -i \"plot_and_save_dual_sat.py\""
   ]
  },
  {
   "cell_type": "markdown",
   "metadata": {},
   "source": [
    "#### "
   ]
  },
  {
   "cell_type": "code",
   "execution_count": null,
   "metadata": {},
   "outputs": [],
   "source": []
  }
 ],
 "metadata": {
  "anaconda-cloud": {},
  "kernelspec": {
   "display_name": "Python 3 (ipykernel)",
   "language": "python",
   "name": "python3"
  },
  "language_info": {
   "codemirror_mode": {
    "name": "ipython",
    "version": 3
   },
   "file_extension": ".py",
   "mimetype": "text/x-python",
   "name": "python",
   "nbconvert_exporter": "python",
   "pygments_lexer": "ipython3",
   "version": "3.7.11"
  }
 },
 "nbformat": 4,
 "nbformat_minor": 2
}
